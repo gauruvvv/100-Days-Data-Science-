{
 "cells": [
  {
   "cell_type": "code",
   "execution_count": 8,
   "metadata": {},
   "outputs": [
    {
     "name": "stdout",
     "output_type": "stream",
     "text": [
      "Gaurav is a Student\n",
      "Tilak is a Historian\n"
     ]
    }
   ],
   "source": [
    "#using a constructor to create and initialise an object in a class\n",
    "#python autmatically reads the constructor whenever the class is called, so if we put a print statement in \n",
    "#a constructor as such does not return any value\n",
    "class Person:\n",
    "    def __init__(self,n,o):\n",
    "        self.name = n\n",
    "        self.occ = o\n",
    "    def info(self):\n",
    "        print(f\"{self.name} is a {self.occ}\") \n",
    "a = Person(\"Gaurav\",\"Student\")       \n",
    "a.info()\n",
    "b = Person(\"Tilak\",\"Historian\")\n",
    "b.info()\n"
   ]
  },
  {
   "cell_type": "code",
   "execution_count": 1,
   "metadata": {},
   "outputs": [
    {
     "name": "stdout",
     "output_type": "stream",
     "text": [
      "acct=1, name=Snehal, addr=Sarud\n",
      "acct=2, name=None, addr=None\n",
      "acct=3, name=Kal, addr=None\n",
      "acct=4, name=None, addr=Kop\n"
     ]
    }
   ],
   "source": [
    "#overflow\n",
    "\n",
    "class Employee:\n",
    "    def __init__(self, acct: int, name=None, addr=None):\n",
    "        self.acct = acct\n",
    "        self.name = name\n",
    "        self.addr = addr\n",
    "\n",
    "    def __str__(self):\n",
    "        return f'acct={self.acct}, name={self.name}, addr={self.addr}'\n",
    "        \n",
    "        if(name == None):\n",
    "            self.acct = acct\n",
    "            self.name = None\n",
    "            self.addr = addr\n",
    "        elif(addr == None):\n",
    "            self.acct = acct\n",
    "            self.name = name\n",
    "            self.addr = None\n",
    "        elif(name == None and addr == None):\n",
    "            self.acct = acct\n",
    "            self.name = None\n",
    "            self.addr = None\n",
    "        else:\n",
    "            self.acct = acct\n",
    "            self.name = name\n",
    "            self.addr = addr\n",
    "    def __str__(self):\n",
    "        return f'acct={self.acct}, name={self.name}, addr={self.addr}'\n",
    "\n",
    "\n",
    "emp1 = Employee(1, 'Snehal', 'Sarud')\n",
    "print(emp1)\n",
    "\n",
    "emp2 = Employee(2)\n",
    "print(emp2)\n",
    "\n",
    "emp3 = Employee(3, name='Kal')\n",
    "print(emp3)\n",
    "\n",
    "emp4 = Employee(4, addr='Kop')\n",
    "print(emp4)\n"
   ]
  },
  {
   "cell_type": "code",
   "execution_count": 2,
   "metadata": {},
   "outputs": [
    {
     "name": "stdout",
     "output_type": "stream",
     "text": [
      "Object created..\n",
      "Object created..\n",
      "(<class 'object'>,)\n",
      "{'__module__': '__main__', '__init__': <function Account.__init__ at 0x000001B1B25CF2E0>, '__dict__': <attribute '__dict__' of 'Account' objects>, '__weakref__': <attribute '__weakref__' of 'Account' objects>, '__doc__': None}\n",
      "None\n",
      "__main__\n",
      "Account\n",
      "{}\n",
      "None\n",
      "{'acct': 1, 'name': 'Snehal', 'addr': 'sarud'}\n",
      "{'acct': 2, 'name': 'Kal'}\n"
     ]
    }
   ],
   "source": [
    "#built in attributes to manipulate a class\n",
    "class Account:\n",
    "    def __init__(self, acct:int, name:str) -> None:\n",
    "        self.acct = acct\n",
    "        self.name = name\n",
    "        print('Object created..')\n",
    "\n",
    "acct1 = Account(1, 'Snehal')\n",
    "acct2 = Account(2, 'Kal')\n",
    "\n",
    "\n",
    "print(Account.__bases__)  # Prints the base classes of the Account class.\n",
    "print(Account.__dict__)   # Prints the namespace dictionary of the Account class.\n",
    "print(Account.__doc__)    # Prints the docstring of the Account class.\n",
    "print(Account.__module__) # Prints the name of the module where the Account class is defined.\n",
    "print(Account.__name__)   # Prints the name of the Account class.\n",
    "print(Account.__annotations__)  # Prints the annotations of the Account class.\n",
    "print(acct1.__setattr__('addr', 'sarud'))  # Dynamically adds the 'addr' attribute to acct1.\n",
    "print(acct1.__getstate__())   # Gets the state of acct1.\n",
    "print(acct2.__getstate__())   # Gets the state of acct2.\n",
    "\n"
   ]
  },
  {
   "cell_type": "code",
   "execution_count": 3,
   "metadata": {},
   "outputs": [
    {
     "name": "stdout",
     "output_type": "stream",
     "text": [
      "Object created..\n",
      "4 : Shubh\n",
      "{'acct': 4, 'name': 'Shubh'}\n",
      "Shubh\n",
      "Shubh\n",
      "{'acct': 4, 'name': 'Shubh', 'addr': 'Kop', 'comp': 'TCS'}\n",
      "{'acct': 4, 'name': 'Shubh'}\n",
      "False\n",
      "True\n"
     ]
    }
   ],
   "source": [
    "#built in functions\n",
    "\n",
    "class Account:\n",
    "    '''Create Account Class'''\n",
    "    \n",
    "    def __init__(self, acct:int, name:str) -> None:\n",
    "        self.acct = acct\n",
    "        self.name = name\n",
    "        print('Object created..')\n",
    "\n",
    "    def __str__(self) -> str:\n",
    "        return f'{self.acct} : {self.name}'\n",
    "acct4 = Account(4, 'Shubh')\n",
    "print(acct4)\n",
    "\n",
    "# Get instance state\n",
    "print(acct4.__getstate__())\n",
    "\n",
    "# Get an attribute value from the instance\n",
    "print(acct4.__getattribute__('name'))\n",
    "print(getattr(acct4, 'name'))\n",
    "\n",
    "# Set value to an attribute in the instance\n",
    "acct4.__setattr__('addr', 'Kop')\n",
    "setattr(acct4, 'comp', 'TCS')\n",
    "print(acct4.__getstate__())\n",
    "\n",
    "# Delete attribute from the instance\n",
    "acct4.__delattr__('addr')\n",
    "delattr(acct4, 'comp')\n",
    "print(acct4.__getstate__())\n",
    "\n",
    "# Check if instance has an attribute\n",
    "print(hasattr(acct4, 'comp'))\n",
    "print(hasattr(acct4, 'acct'))\n"
   ]
  },
  {
   "cell_type": "code",
   "execution_count": null,
   "metadata": {},
   "outputs": [],
   "source": []
  }
 ],
 "metadata": {
  "kernelspec": {
   "display_name": "Python 3",
   "language": "python",
   "name": "python3"
  },
  "language_info": {
   "codemirror_mode": {
    "name": "ipython",
    "version": 3
   },
   "file_extension": ".py",
   "mimetype": "text/x-python",
   "name": "python",
   "nbconvert_exporter": "python",
   "pygments_lexer": "ipython3",
   "version": "3.11.9"
  }
 },
 "nbformat": 4,
 "nbformat_minor": 2
}
