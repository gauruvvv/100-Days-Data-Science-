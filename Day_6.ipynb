{
  "nbformat": 4,
  "nbformat_minor": 0,
  "metadata": {
    "colab": {
      "provenance": []
    },
    "kernelspec": {
      "name": "python3",
      "display_name": "Python 3"
    },
    "language_info": {
      "name": "python"
    }
  },
  "cells": [
    {
      "cell_type": "code",
      "execution_count": null,
      "metadata": {
        "colab": {
          "base_uri": "https://localhost:8080/"
        },
        "id": "hJSih_YouEij",
        "outputId": "de0145c8-6085-4388-d646-464eeb36e607"
      },
      "outputs": [
        {
          "output_type": "stream",
          "name": "stdout",
          "text": [
            "enter x x]\n",
            "enter y1\n",
            "Cannot add integer and string\n"
          ]
        }
      ],
      "source": [
        "#Exception handling\n",
        "\n",
        "#type error\n",
        "\n",
        "x = input(\"enter x \")\n",
        "y= int(input(\"enter y\"))\n",
        "\n",
        "try:\n",
        "  z = x+y\n",
        "  print(z)\n",
        "except TypeError:\n",
        "  print(\"Cannot add integer and string\")"
      ]
    },
    {
      "cell_type": "code",
      "source": [
        "#index error - runtime error\n",
        "\n",
        "a = [1, 2, 3]\n",
        "try:\n",
        "\tprint (\"Second element = %d\" %(a[1]))\n",
        "\n",
        "\t# Throws error since there are only 3 elements in array\n",
        "\tprint (\"Fourth element = %d\" %(a[3]))\n",
        "\n",
        "except:\n",
        "\tprint (\"An error occurred\")\n",
        "\n",
        "\n"
      ],
      "metadata": {
        "colab": {
          "base_uri": "https://localhost:8080/"
        },
        "id": "xyhxg-FEx4hF",
        "outputId": "111ae695-3e39-4eb9-c660-6939e8150ead"
      },
      "execution_count": null,
      "outputs": [
        {
          "output_type": "stream",
          "name": "stdout",
          "text": [
            "Second element = 2\n",
            "An error occurred\n",
            "End of exception..\n"
          ]
        }
      ]
    },
    {
      "cell_type": "code",
      "source": [
        "def func(n):\n",
        "  try:\n",
        "      a = 4/n\n",
        "      print(a)\n",
        "      print(d)\n",
        "  except ZeroDivisionError:\n",
        "      print(\"Division by zero not defined\")\n",
        "  except NameError:\n",
        "      print('Name not defined in the scope')\n",
        "  finally:\n",
        "      print(\"Operation completed\")\n",
        "func(0)\n",
        "func(2)\n"
      ],
      "metadata": {
        "colab": {
          "base_uri": "https://localhost:8080/"
        },
        "id": "_lVdNHZT3fmb",
        "outputId": "d503cb33-08e0-4612-b92d-48763756e59a"
      },
      "execution_count": null,
      "outputs": [
        {
          "output_type": "stream",
          "name": "stdout",
          "text": [
            "Division by zero not defined\n",
            "Operation completed\n",
            "2.0\n",
            "Name not defined in the scope\n",
            "Operation completed\n"
          ]
        }
      ]
    },
    {
      "cell_type": "code",
      "source": [
        "def func(name):\n",
        "    try:\n",
        "        if name == 'Gaurav':\n",
        "            print('Hello,',name)\n",
        "        else:\n",
        "            raise NameError(name)\n",
        "    except NameError:\n",
        "\n",
        "        print('Access Denied:', name)\n",
        "\n",
        "\n",
        "func('Gaurav')\n",
        "func('Tilak')"
      ],
      "metadata": {
        "colab": {
          "base_uri": "https://localhost:8080/"
        },
        "id": "FMsgnEfm43n7",
        "outputId": "39fccf52-a2db-40a7-9fbf-a231882be53e"
      },
      "execution_count": null,
      "outputs": [
        {
          "output_type": "stream",
          "name": "stdout",
          "text": [
            "Hello, Gaurav\n",
            "Access Denied: Tilak\n"
          ]
        }
      ]
    },
    {
      "cell_type": "code",
      "source": [
        "#You can also have user defined errors according to the code"
      ],
      "metadata": {
        "id": "a8TM7gH974cv"
      },
      "execution_count": null,
      "outputs": []
    },
    {
      "cell_type": "code",
      "source": [
        "#syntax error"
      ],
      "metadata": {
        "colab": {
          "base_uri": "https://localhost:8080/",
          "height": 106
        },
        "id": "xs6lCkKS9I1B",
        "outputId": "27020274-85b5-449f-ff1d-e27315a68e51"
      },
      "execution_count": null,
      "outputs": [
        {
          "output_type": "error",
          "ename": "SyntaxError",
          "evalue": "invalid syntax (<ipython-input-28-25dbed951f44>, line 2)",
          "traceback": [
            "\u001b[0;36m  File \u001b[0;32m\"<ipython-input-28-25dbed951f44>\"\u001b[0;36m, line \u001b[0;32m2\u001b[0m\n\u001b[0;31m    some_variable  10\u001b[0m\n\u001b[0m                   ^\u001b[0m\n\u001b[0;31mSyntaxError\u001b[0m\u001b[0;31m:\u001b[0m invalid syntax\n"
          ]
        }
      ]
    }
  ]
}