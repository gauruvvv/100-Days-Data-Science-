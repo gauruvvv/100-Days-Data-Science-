{
 "cells": [
  {
   "cell_type": "code",
   "execution_count": 1,
   "metadata": {},
   "outputs": [
    {
     "name": "stdout",
     "output_type": "stream",
     "text": [
      "[<re.Match object; span=(0, 6), match='snehal'>, <re.Match object; span=(7, 13), match='snehal'>, <re.Match object; span=(14, 20), match='snehal'>]\n"
     ]
    }
   ],
   "source": [
    "import re\n",
    "\n",
    "s = 'snehal snehal snehal'\n",
    "i = re.finditer('snehal', s)\n",
    "print(list(i))\n",
    "\n",
    "for d in i:\n",
    "    print(d)"
   ]
  },
  {
   "cell_type": "code",
   "execution_count": 3,
   "metadata": {},
   "outputs": [
    {
     "name": "stdout",
     "output_type": "stream",
     "text": [
      "['I', 'am', 'gAURAV']\n",
      "['I', 'am', 'gAURAV']\n",
      "['I', 'am', 'gAURAV']\n"
     ]
    }
   ],
   "source": [
    "s = 'I am gAURAV'\n",
    "print(re.split(' ', s))\n",
    "print(re.split('\\s', s))\n",
    "print(re.split('\\s', s, maxsplit=2))"
   ]
  },
  {
   "cell_type": "code",
   "execution_count": 4,
   "metadata": {},
   "outputs": [
    {
     "name": "stdout",
     "output_type": "stream",
     "text": [
      "I##am##Gaurav\n",
      "I##am Gaurav\n",
      "I am Gaurav\n"
     ]
    }
   ],
   "source": [
    "#re.sub\n",
    "\n",
    "s = 'I am Gaurav'\n",
    "print(re.sub('\\s', '##', s))\n",
    "print(re.sub('\\s', '##', s, count=1))\n",
    "print(s)"
   ]
  },
  {
   "cell_type": "code",
   "execution_count": 6,
   "metadata": {},
   "outputs": [
    {
     "name": "stdout",
     "output_type": "stream",
     "text": [
      "('I00am00Gaurav00Kishore', 3)\n",
      "('I00am Gaurav Kishore', 1)\n"
     ]
    }
   ],
   "source": [
    "import re\n",
    "\n",
    "s = 'I am Gaurav Kishore'\n",
    "print(re.subn('\\s', '00', s))\n",
    "print(re.subn('\\s', '00', s, count=1))"
   ]
  },
  {
   "cell_type": "code",
   "execution_count": 7,
   "metadata": {},
   "outputs": [
    {
     "name": "stdout",
     "output_type": "stream",
     "text": [
      "Gaurav\\ Kishore\n"
     ]
    }
   ],
   "source": [
    "import re\n",
    "\n",
    "pattern = 'Gaurav Kishore'\n",
    "\n",
    "result = re.escape(pattern)\n",
    "\n",
    "print(result)"
   ]
  },
  {
   "cell_type": "code",
   "execution_count": 8,
   "metadata": {},
   "outputs": [
    {
     "name": "stdout",
     "output_type": "stream",
     "text": [
      "None\n",
      "None\n",
      "Gaurav\\*\n"
     ]
    }
   ],
   "source": [
    "s1 = 'GAuruvvv Gauruvv*'\n",
    "\n",
    "p1 = 'Gaurav*'\n",
    "p = re.escape(p1)\n",
    "print(re.search(p1, s1))\n",
    "print(re.search(p, s1))\n",
    "print(p)"
   ]
  },
  {
   "cell_type": "code",
   "execution_count": 9,
   "metadata": {},
   "outputs": [
    {
     "name": "stdout",
     "output_type": "stream",
     "text": [
      "<re.Match object; span=(0, 3), match='123'>\n",
      "<re.Match object; span=(3, 6), match='abc'>\n",
      "<re.Match object; span=(0, 3), match='456'>\n",
      "<re.Match object; span=(3, 6), match='def'>\n"
     ]
    }
   ],
   "source": [
    "# Importing re module  \n",
    "import re  \n",
    "  \n",
    "# Define some regular expressions  \n",
    "pattern1 = r'\\d+'  \n",
    "pattern2 = r'[a-z]+'  \n",
    "  \n",
    "# Use the regular expressions  \n",
    "print(re.search(pattern1, '123abc'))  \n",
    "print(re.search(pattern2, '123abc'))  \n",
    "  \n",
    "# Clear the regular expression cache  \n",
    "re.purge()  \n",
    "  \n",
    "# Use the regular expressions again  \n",
    "print(re.search(pattern1, '456def'))  \n",
    "print(re.search(pattern2, '456def'))  "
   ]
  }
 ],
 "metadata": {
  "kernelspec": {
   "display_name": "Python 3",
   "language": "python",
   "name": "python3"
  },
  "language_info": {
   "codemirror_mode": {
    "name": "ipython",
    "version": 3
   },
   "file_extension": ".py",
   "mimetype": "text/x-python",
   "name": "python",
   "nbconvert_exporter": "python",
   "pygments_lexer": "ipython3",
   "version": "3.11.9"
  }
 },
 "nbformat": 4,
 "nbformat_minor": 2
}
