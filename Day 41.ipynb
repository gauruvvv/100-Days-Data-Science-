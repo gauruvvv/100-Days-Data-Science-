{
 "cells": [
  {
   "cell_type": "code",
   "execution_count": 5,
   "metadata": {},
   "outputs": [],
   "source": [
    "import numpy as np"
   ]
  },
  {
   "cell_type": "code",
   "execution_count": 6,
   "metadata": {},
   "outputs": [
    {
     "data": {
      "text/plain": [
       "array([[0.38426188, 0.91858863, 0.23050422, 0.80086679, 0.53387429],\n",
       "       [0.7875704 , 0.71210879, 0.40893427, 0.23824026, 0.52693239],\n",
       "       [0.44432052, 0.52009956, 0.65744717, 0.61170325, 0.86171251],\n",
       "       [0.41807961, 0.96979203, 0.49882715, 0.01656262, 0.57613646],\n",
       "       [0.39030397, 0.82288347, 0.32763737, 0.57849224, 0.29567943]])"
      ]
     },
     "execution_count": 6,
     "metadata": {},
     "output_type": "execute_result"
    }
   ],
   "source": [
    "arr = np.random.rand(5,5)\n",
    "arr"
   ]
  },
  {
   "cell_type": "markdown",
   "metadata": {},
   "source": [
    "### element-wise addition, subtraction, multiplication and division"
   ]
  },
  {
   "cell_type": "code",
   "execution_count": 7,
   "metadata": {},
   "outputs": [
    {
     "name": "stdout",
     "output_type": "stream",
     "text": [
      "[[10.38426188 10.91858863 10.23050422 10.80086679 10.53387429]\n",
      " [10.7875704  10.71210879 10.40893427 10.23824026 10.52693239]\n",
      " [10.44432052 10.52009956 10.65744717 10.61170325 10.86171251]\n",
      " [10.41807961 10.96979203 10.49882715 10.01656262 10.57613646]\n",
      " [10.39030397 10.82288347 10.32763737 10.57849224 10.29567943]]\n",
      "[[-9.61573812 -9.08141137 -9.76949578 -9.19913321 -9.46612571]\n",
      " [-9.2124296  -9.28789121 -9.59106573 -9.76175974 -9.47306761]\n",
      " [-9.55567948 -9.47990044 -9.34255283 -9.38829675 -9.13828749]\n",
      " [-9.58192039 -9.03020797 -9.50117285 -9.98343738 -9.42386354]\n",
      " [-9.60969603 -9.17711653 -9.67236263 -9.42150776 -9.70432057]]\n",
      "[[3.84261882 9.18588625 2.30504216 8.00866792 5.33874291]\n",
      " [7.87570403 7.12108786 4.0893427  2.38240259 5.2693239 ]\n",
      " [4.44320518 5.2009956  6.57447167 6.11703249 8.61712508]\n",
      " [4.18079607 9.69792031 4.98827149 0.16562618 5.7613646 ]\n",
      " [3.90303966 8.22883468 3.27637371 5.78492245 2.9567943 ]]\n",
      "[[0.03842619 0.09185886 0.02305042 0.08008668 0.05338743]\n",
      " [0.07875704 0.07121088 0.04089343 0.02382403 0.05269324]\n",
      " [0.04443205 0.05200996 0.06574472 0.06117032 0.08617125]\n",
      " [0.04180796 0.0969792  0.04988271 0.00165626 0.05761365]\n",
      " [0.0390304  0.08228835 0.03276374 0.05784922 0.02956794]]\n"
     ]
    }
   ],
   "source": [
    "print(arr + 10)\n",
    "print(arr - 10)\n",
    "print(arr * 10)\n",
    "print(arr / 10)"
   ]
  },
  {
   "cell_type": "code",
   "execution_count": 8,
   "metadata": {},
   "outputs": [
    {
     "name": "stdout",
     "output_type": "stream",
     "text": [
      "[ 9 11 13]\n",
      "[1 2 3]\n",
      "[1 4 9]\n"
     ]
    }
   ],
   "source": [
    "# the above operations can be performed using numpy built-in functions\n",
    "# which can save memory as the output can be stored in the original array rather than assigning new memory\n",
    "arr1 = np.array([1,2,3])\n",
    "np.add(arr1, [8,9,10], out=arr1)\n",
    "print(arr1)\n",
    "\n",
    "np.subtract(arr1, [8,9,10], out=arr1)\n",
    "print(arr1)\n",
    "\n",
    "np.multiply(arr1, [1,2,3], out=arr1)\n",
    "print(arr1)"
   ]
  },
  {
   "cell_type": "markdown",
   "metadata": {},
   "source": [
    "### element-wise exponentiation"
   ]
  },
  {
   "cell_type": "code",
   "execution_count": 49,
   "metadata": {},
   "outputs": [
    {
     "name": "stdout",
     "output_type": "stream",
     "text": [
      "[[1.47616093 1.60568909 2.57612159 1.15123226 1.22649677 1.32673082\n",
      "  2.16394255 1.60247411]\n",
      " [2.06721968 1.53578669 2.42390031 1.74499826 1.28775585 2.34159156\n",
      "  1.58721959 2.09046894]\n",
      " [1.64795904 1.64837578 2.16170708 1.77704555 1.23098428 1.81735481\n",
      "  1.61825322 1.41757061]\n",
      " [1.64942868 2.22784645 2.64728683 1.36773307 2.08849455 1.80303846\n",
      "  1.78273837 1.72773777]\n",
      " [1.73497741 1.58027504 1.31059815 2.64710492 1.64646925 1.85492809\n",
      "  1.72343737 2.38404845]]\n"
     ]
    }
   ],
   "source": [
    "print(np.exp(arr))"
   ]
  },
  {
   "cell_type": "markdown",
   "metadata": {},
   "source": [
    "### element-wise logorithm"
   ]
  },
  {
   "cell_type": "code",
   "execution_count": 10,
   "metadata": {},
   "outputs": [
    {
     "name": "stdout",
     "output_type": "stream",
     "text": [
      "[[-0.95643097 -0.08491689 -1.46748613 -0.22206065 -0.62759488]\n",
      " [-0.23880251 -0.33952459 -0.89420084 -1.43447562 -0.64068303]\n",
      " [-0.81120909 -0.65373503 -0.41939087 -0.491508   -0.14883358]\n",
      " [-0.87208342 -0.03067363 -0.69549564 -4.10060707 -0.55141074]\n",
      " [-0.94082944 -0.19494068 -1.11584786 -0.54733014 -1.21847942]]\n"
     ]
    }
   ],
   "source": [
    "# natural log\n",
    "print(np.log(arr))      "
   ]
  },
  {
   "cell_type": "code",
   "execution_count": 11,
   "metadata": {},
   "outputs": [
    {
     "name": "stdout",
     "output_type": "stream",
     "text": [
      "[[-1.37983822 -0.12250918 -2.11713496 -0.3203658  -0.90542802]\n",
      " [-0.3445192  -0.48983044 -1.29005912 -2.06951087 -0.92431023]\n",
      " [-1.17032733 -0.94314028 -0.60505313 -0.70909616 -0.21472147]\n",
      " [-1.25815042 -0.0442527  -1.00338811 -5.91592548 -0.79551753]\n",
      " [-1.35732997 -0.28123996 -1.60982817 -0.78963048 -1.75789422]]\n"
     ]
    }
   ],
   "source": [
    "# base 2\n",
    "print(np.log2(arr))     "
   ]
  },
  {
   "cell_type": "code",
   "execution_count": 12,
   "metadata": {},
   "outputs": [
    {
     "name": "stdout",
     "output_type": "stream",
     "text": [
      "[[-0.41537269 -0.03687894 -0.63732113 -0.09643971 -0.27256099]\n",
      " [-0.10371061 -0.14745366 -0.38834649 -0.62298485 -0.27824511]\n",
      " [-0.35230363 -0.28391351 -0.18213914 -0.21345921 -0.0646376 ]\n",
      " [-0.37874102 -0.01332139 -0.30204992 -1.78087102 -0.23947464]\n",
      " [-0.40859704 -0.08466166 -0.48460657 -0.23770246 -0.52917889]]\n"
     ]
    }
   ],
   "source": [
    "# base 10\n",
    "print(np.log10(arr))    "
   ]
  },
  {
   "cell_type": "markdown",
   "metadata": {},
   "source": [
    "### element-wise square root"
   ]
  },
  {
   "cell_type": "code",
   "execution_count": 13,
   "metadata": {},
   "outputs": [
    {
     "name": "stdout",
     "output_type": "stream",
     "text": [
      "[[0.6198886  0.95843029 0.48010855 0.89491161 0.73066702]\n",
      " [0.88745163 0.84386538 0.63947969 0.48809862 0.72590109]\n",
      " [0.66657372 0.72117928 0.81083116 0.7821146  0.92828471]\n",
      " [0.64659076 0.98478019 0.70627696 0.12869583 0.75903653]\n",
      " [0.62474312 0.90712925 0.57239617 0.76058678 0.54376413]]\n"
     ]
    }
   ],
   "source": [
    "print(np.sqrt(arr))"
   ]
  },
  {
   "cell_type": "markdown",
   "metadata": {},
   "source": [
    "### element-wise sine and cosine"
   ]
  },
  {
   "cell_type": "code",
   "execution_count": 14,
   "metadata": {},
   "outputs": [
    {
     "name": "stdout",
     "output_type": "stream",
     "text": [
      "[[0.37487495 0.79474579 0.22846843 0.71795972 0.5088723 ]\n",
      " [0.70864112 0.65343154 0.3976317  0.23599296 0.50288421]\n",
      " [0.42984447 0.49696654 0.61109814 0.57426269 0.75895876]\n",
      " [0.40600621 0.82476813 0.47839594 0.01656186 0.54478815]\n",
      " [0.38046954 0.73310995 0.32180698 0.54676213 0.29138986]]\n"
     ]
    }
   ],
   "source": [
    "print(np.sin(arr))"
   ]
  },
  {
   "cell_type": "code",
   "execution_count": 15,
   "metadata": {},
   "outputs": [
    {
     "name": "stdout",
     "output_type": "stream",
     "text": [
      "[[0.92707539 0.60694244 0.97355132 0.69608465 0.86084202]\n",
      " [0.70556911 0.75698561 0.91754511 0.97175477 0.86435379]\n",
      " [0.90290295 0.86776971 0.79155484 0.81867109 0.6511387 ]\n",
      " [0.91387032 0.56547107 0.87814425 0.99986284 0.83857371]\n",
      " [0.92479345 0.68011014 0.9468053  0.83728798 0.95660438]]\n"
     ]
    }
   ],
   "source": [
    "print(np.cos(arr))"
   ]
  },
  {
   "cell_type": "markdown",
   "metadata": {},
   "source": [
    "### sum along a specified axis"
   ]
  },
  {
   "cell_type": "code",
   "execution_count": 16,
   "metadata": {},
   "outputs": [
    {
     "name": "stdout",
     "output_type": "stream",
     "text": [
      "[2.42453638 3.94347247 2.12335017 2.24586516 2.79433508]\n"
     ]
    }
   ],
   "source": [
    "# sum along the row\n",
    "print(np.sum(arr, axis=0))    "
   ]
  },
  {
   "cell_type": "code",
   "execution_count": 17,
   "metadata": {},
   "outputs": [
    {
     "name": "stdout",
     "output_type": "stream",
     "text": [
      "[2.86809581 2.67378611 3.095283   2.47939787 2.41499648]\n"
     ]
    }
   ],
   "source": [
    "# sum along the column\n",
    "print(np.sum(arr, axis=1))    "
   ]
  },
  {
   "cell_type": "markdown",
   "metadata": {},
   "source": [
    "### compute the min and max along a specified axis"
   ]
  },
  {
   "cell_type": "code",
   "execution_count": 18,
   "metadata": {},
   "outputs": [
    {
     "name": "stdout",
     "output_type": "stream",
     "text": [
      "[0.38426188 0.52009956 0.23050422 0.01656262 0.29567943]\n"
     ]
    }
   ],
   "source": [
    "# calculate min along the row\n",
    "print(np.min(arr, axis=0))"
   ]
  },
  {
   "cell_type": "code",
   "execution_count": 19,
   "metadata": {},
   "outputs": [
    {
     "name": "stdout",
     "output_type": "stream",
     "text": [
      "[0.91858863 0.7875704  0.86171251 0.96979203 0.82288347]\n"
     ]
    }
   ],
   "source": [
    "# calculate max along the column\n",
    "print(np.max(arr, axis=1))    "
   ]
  },
  {
   "cell_type": "code",
   "execution_count": 20,
   "metadata": {},
   "outputs": [
    {
     "name": "stdout",
     "output_type": "stream",
     "text": [
      "0.9697920308985486\n",
      "0.016562617739654284\n"
     ]
    }
   ],
   "source": [
    "# if axis not specified, calculate the max/min value of all elements\n",
    "print(np.max(arr))\n",
    "print(np.min(arr))"
   ]
  },
  {
   "cell_type": "markdown",
   "metadata": {},
   "source": [
    "### compute the indices of the min and max along a specified axis"
   ]
  },
  {
   "cell_type": "code",
   "execution_count": 21,
   "metadata": {},
   "outputs": [
    {
     "name": "stdout",
     "output_type": "stream",
     "text": [
      "[0 2 0 3 4]\n",
      "[1 3 2 0 2]\n"
     ]
    }
   ],
   "source": [
    "# along the row\n",
    "print(np.argmin(arr, axis=0))\n",
    "print(np.argmax(arr, axis=0))"
   ]
  },
  {
   "cell_type": "code",
   "execution_count": 22,
   "metadata": {},
   "outputs": [
    {
     "name": "stdout",
     "output_type": "stream",
     "text": [
      "[2 3 0 3 4]\n",
      "[1 0 4 1 1]\n"
     ]
    }
   ],
   "source": [
    "# along the column\n",
    "print(np.argmin(arr, axis=1))\n",
    "print(np.argmax(arr, axis=1))"
   ]
  },
  {
   "cell_type": "code",
   "execution_count": 23,
   "metadata": {},
   "outputs": [
    {
     "name": "stdout",
     "output_type": "stream",
     "text": [
      "18\n",
      "16\n"
     ]
    }
   ],
   "source": [
    "# if axis not specified, return the index of the flattened array\n",
    "print(np.argmin(arr))\n",
    "print(np.argmax(arr))"
   ]
  },
  {
   "cell_type": "markdown",
   "metadata": {},
   "source": [
    "### compute element-wise min and max of two arrays"
   ]
  },
  {
   "cell_type": "code",
   "execution_count": 24,
   "metadata": {},
   "outputs": [
    {
     "name": "stdout",
     "output_type": "stream",
     "text": [
      "[1 4 5 8 9]\n",
      "[0 3 3 7 7]\n"
     ]
    }
   ],
   "source": [
    "arr1 = np.array([1, 3, 5, 7, 9])\n",
    "arr2 = np.array([0, 4, 3, 8, 7])\n",
    "print(np.maximum(arr1, arr2))\n",
    "print(np.minimum(arr1, arr2))"
   ]
  },
  {
   "cell_type": "markdown",
   "metadata": {},
   "source": [
    "### split fractional and integral parts of a floating-point array"
   ]
  },
  {
   "cell_type": "code",
   "execution_count": 25,
   "metadata": {},
   "outputs": [
    {
     "name": "stdout",
     "output_type": "stream",
     "text": [
      "fractional:  [0.85267685 0.16626257 0.14186364 0.57635863 0.21128018 0.08440108\n",
      " 0.07057461 0.15260635 0.44652641 0.28703388]\n",
      "integral:  [1. 3. 1. 3. 9. 9. 0. 2. 6. 4.]\n"
     ]
    }
   ],
   "source": [
    "arr1 = np.random.rand(10) * 10\n",
    "re, intg = np.modf(arr1)\n",
    "print('fractional: ', re)\n",
    "print('integral: ', intg)"
   ]
  },
  {
   "cell_type": "markdown",
   "metadata": {},
   "source": [
    "### compute the mean"
   ]
  },
  {
   "cell_type": "code",
   "execution_count": 26,
   "metadata": {},
   "outputs": [
    {
     "name": "stdout",
     "output_type": "stream",
     "text": [
      "0.5412623703128847\n"
     ]
    }
   ],
   "source": [
    "# compute the overall mean\n",
    "print(np.mean(arr))"
   ]
  },
  {
   "cell_type": "code",
   "execution_count": 27,
   "metadata": {},
   "outputs": [
    {
     "name": "stdout",
     "output_type": "stream",
     "text": [
      "[0.48490728 0.78869449 0.42467003 0.44917303 0.55886702]\n"
     ]
    }
   ],
   "source": [
    "# compute the mean along the row\n",
    "print(np.mean(arr, axis=0))   "
   ]
  },
  {
   "cell_type": "code",
   "execution_count": 28,
   "metadata": {},
   "outputs": [
    {
     "name": "stdout",
     "output_type": "stream",
     "text": [
      "[0.57361916 0.53475722 0.6190566  0.49587957 0.4829993 ]\n"
     ]
    }
   ],
   "source": [
    "# compute the mean along the column\n",
    "print(np.mean(arr, axis=1)) "
   ]
  },
  {
   "cell_type": "markdown",
   "metadata": {},
   "source": [
    "### compute the median"
   ]
  },
  {
   "cell_type": "code",
   "execution_count": 29,
   "metadata": {},
   "outputs": [
    {
     "name": "stdout",
     "output_type": "stream",
     "text": [
      "0.5269323897851645\n"
     ]
    }
   ],
   "source": [
    "# compute the overall median\n",
    "print(np.median(arr))"
   ]
  },
  {
   "cell_type": "code",
   "execution_count": 30,
   "metadata": {},
   "outputs": [
    {
     "name": "stdout",
     "output_type": "stream",
     "text": [
      "[0.41807961 0.82288347 0.40893427 0.57849224 0.53387429]\n"
     ]
    }
   ],
   "source": [
    "# compute the median along the row\n",
    "print(np.median(arr, axis=0)) "
   ]
  },
  {
   "cell_type": "code",
   "execution_count": 31,
   "metadata": {},
   "outputs": [
    {
     "name": "stdout",
     "output_type": "stream",
     "text": [
      "[0.53387429 0.52693239 0.61170325 0.49882715 0.39030397]\n"
     ]
    }
   ],
   "source": [
    "# compute the median along the column\n",
    "print(np.median(arr, axis=1))"
   ]
  },
  {
   "cell_type": "markdown",
   "metadata": {},
   "source": [
    "### compute the percentile"
   ]
  },
  {
   "cell_type": "code",
   "execution_count": 32,
   "metadata": {},
   "outputs": [
    {
     "name": "stdout",
     "output_type": "stream",
     "text": [
      "[0.04906452 0.70419119 0.94663957]\n"
     ]
    }
   ],
   "source": [
    "arr1 = np.random.rand(100)\n",
    "# compute 5, 65, and 95 percentiles of the array\n",
    "print(np.percentile(arr1, [5, 65, 95]))"
   ]
  },
  {
   "cell_type": "markdown",
   "metadata": {},
   "source": [
    "### compute the standard deviation & variance"
   ]
  },
  {
   "cell_type": "code",
   "execution_count": 33,
   "metadata": {},
   "outputs": [
    {
     "name": "stdout",
     "output_type": "stream",
     "text": [
      "0.23220708508609358\n"
     ]
    }
   ],
   "source": [
    "# compute the overall standard deviation\n",
    "print(np.std(arr))"
   ]
  },
  {
   "cell_type": "code",
   "execution_count": 34,
   "metadata": {},
   "outputs": [
    {
     "name": "stdout",
     "output_type": "stream",
     "text": [
      "[0.15283813 0.16052807 0.14632005 0.28230212 0.18051359]\n"
     ]
    }
   ],
   "source": [
    "# compute the standard deviation along the row\n",
    "print(np.std(arr, axis=0))"
   ]
  },
  {
   "cell_type": "code",
   "execution_count": 35,
   "metadata": {},
   "outputs": [
    {
     "name": "stdout",
     "output_type": "stream",
     "text": [
      "[0.25526814 0.1995911  0.14194012 0.30556193 0.19619309]\n"
     ]
    }
   ],
   "source": [
    "# compute the standard deviation along the column\n",
    "print(np.std(arr, axis=1))"
   ]
  },
  {
   "cell_type": "code",
   "execution_count": 36,
   "metadata": {},
   "outputs": [
    {
     "name": "stdout",
     "output_type": "stream",
     "text": [
      "0.0539201303641803\n"
     ]
    }
   ],
   "source": [
    "# compute the overall variance\n",
    "print(np.var(arr))"
   ]
  },
  {
   "cell_type": "code",
   "execution_count": 37,
   "metadata": {},
   "outputs": [
    {
     "name": "stdout",
     "output_type": "stream",
     "text": [
      "[0.02335949 0.02576926 0.02140956 0.07969449 0.03258516]\n"
     ]
    }
   ],
   "source": [
    "# compute the variance along the row\n",
    "print(np.var(arr, axis=0))"
   ]
  },
  {
   "cell_type": "code",
   "execution_count": 38,
   "metadata": {},
   "outputs": [
    {
     "name": "stdout",
     "output_type": "stream",
     "text": [
      "[0.06516182 0.03983661 0.020147   0.09336809 0.03849173]\n"
     ]
    }
   ],
   "source": [
    "# compute the variance along the column\n",
    "print(np.var(arr, axis=1))"
   ]
  },
  {
   "cell_type": "markdown",
   "metadata": {},
   "source": [
    "### compute the covariance & correlation"
   ]
  },
  {
   "cell_type": "code",
   "execution_count": 39,
   "metadata": {},
   "outputs": [],
   "source": [
    "arr = np.random.rand(5,8)"
   ]
  },
  {
   "cell_type": "code",
   "execution_count": 40,
   "metadata": {},
   "outputs": [
    {
     "name": "stdout",
     "output_type": "stream",
     "text": [
      "[[ 0.07683133  0.02060269  0.02253825  0.03463727 -0.03848607]\n",
      " [ 0.02060269  0.04978865  0.02599317  0.00211073 -0.00107549]\n",
      " [ 0.02253825  0.02599317  0.02813982  0.00683167 -0.00992475]\n",
      " [ 0.03463727  0.00211073  0.00683167  0.04100431 -0.04007522]\n",
      " [-0.03848607 -0.00107549 -0.00992475 -0.04007522  0.05094935]]\n"
     ]
    }
   ],
   "source": [
    "print(np.cov(arr))"
   ]
  },
  {
   "cell_type": "code",
   "execution_count": 41,
   "metadata": {},
   "outputs": [
    {
     "name": "stdout",
     "output_type": "stream",
     "text": [
      "[[ 1.         -0.27381842]\n",
      " [-0.27381842  1.        ]]\n"
     ]
    }
   ],
   "source": [
    "print(np.corrcoef(arr[:,0], arr[:,1]))"
   ]
  },
  {
   "cell_type": "markdown",
   "metadata": {},
   "source": [
    "### compute cumulative sum & product"
   ]
  },
  {
   "cell_type": "code",
   "execution_count": 42,
   "metadata": {},
   "outputs": [
    {
     "name": "stdout",
     "output_type": "stream",
     "text": [
      "[[0.38944475 0.47355301 0.94628501 0.1408329  0.20416195 0.28271788\n",
      "  0.77193181 0.47154875]\n",
      " [1.11564931 0.90259576 1.83166295 0.69758646 0.457063   1.13354874\n",
      "  1.23391561 1.20893716]\n",
      " [1.61518688 1.40238619 2.60256117 1.27253864 0.66487708 1.73093078\n",
      "  1.71526292 1.55788173]\n",
      " [2.11561585 2.20342159 3.57609645 1.58569331 1.40132058 2.32040405\n",
      "  2.29341351 2.10469464]\n",
      " [2.66661025 2.66102049 3.84658008 2.55915987 1.89995372 2.93824998\n",
      "  2.83773428 2.97349471]]\n"
     ]
    }
   ],
   "source": [
    "# calculate the cumulative sums along the row\n",
    "print(np.cumsum(arr, axis=0))    "
   ]
  },
  {
   "cell_type": "code",
   "execution_count": 43,
   "metadata": {},
   "outputs": [
    {
     "name": "stdout",
     "output_type": "stream",
     "text": [
      "[[0.38944475 0.86299776 1.80928277 1.95011567 2.15427761 2.4369955\n",
      "  3.20892731 3.68047606]\n",
      " [0.72620456 1.15524731 2.04062525 2.59737881 2.85027986 3.70111071\n",
      "  4.16309451 4.90048292]\n",
      " [0.49953758 0.999328   1.77022623 2.34517841 2.55299249 3.15037453\n",
      "  3.63172184 3.98066641]\n",
      " [0.50042897 1.30146437 2.27499965 2.58815432 3.32459782 3.91407109\n",
      "  4.49222168 5.03903459]\n",
      " [0.55099439 1.0085933  1.27907693 2.25254349 2.75117664 3.36902256\n",
      "  3.91334333 4.7821434 ]]\n"
     ]
    }
   ],
   "source": [
    "# calculate the cumulative sums along the column\n",
    "print(np.cumsum(arr, axis=1))    "
   ]
  },
  {
   "cell_type": "code",
   "execution_count": 44,
   "metadata": {},
   "outputs": [
    {
     "name": "stdout",
     "output_type": "stream",
     "text": [
      "[[0.38944475 0.47355301 0.94628501 0.1408329  0.20416195 0.28271788\n",
      "  0.77193181 0.47154875]\n",
      " [0.28281655 0.20317449 0.83781987 0.07840922 0.05163277 0.2405451\n",
      "  0.35661999 0.34771459]\n",
      " [0.14127749 0.10154466 0.64587385 0.04508155 0.01073002 0.14369732\n",
      "  0.17165807 0.12133312]\n",
      " [0.07069935 0.08134087 0.62878098 0.0141175  0.00790205 0.08470573\n",
      "  0.09924422 0.06634651]\n",
      " [0.03895495 0.03722149 0.17007496 0.01374291 0.00394022 0.05233509\n",
      "  0.05402069 0.05764186]]\n"
     ]
    }
   ],
   "source": [
    "# calculate the cumulative product along the row\n",
    "print(np.cumprod(arr, axis=0))   "
   ]
  },
  {
   "cell_type": "code",
   "execution_count": 45,
   "metadata": {},
   "outputs": [
    {
     "name": "stdout",
     "output_type": "stream",
     "text": [
      "[[3.89444751e-01 1.84422733e-01 1.74516467e-01 2.45776601e-02\n",
      "  5.01782299e-03 1.41862829e-03 1.09508431e-03 5.16385637e-04]\n",
      " [7.26204556e-01 3.11572802e-01 2.75859685e-01 1.53585861e-01\n",
      "  3.88420262e-02 3.30479943e-02 1.52676379e-02 1.12581793e-02]\n",
      " [4.99537575e-01 2.49664099e-01 1.92465611e-01 1.10658523e-01\n",
      "  2.29963991e-02 1.37376359e-02 6.61257407e-03 2.30742182e-03]\n",
      " [5.00428972e-01 4.00861322e-01 3.90252638e-01 1.22209438e-01\n",
      "  9.00003453e-02 5.30527981e-02 3.06725065e-02 1.67721224e-02]\n",
      " [5.50994391e-01 2.52134430e-01 6.81982370e-02 6.63887031e-02\n",
      "  3.31036079e-02 2.04529293e-02 1.11329542e-02 9.67231142e-03]]\n"
     ]
    }
   ],
   "source": [
    "# calculate the cumulative product along the column\n",
    "print(np.cumprod(arr, axis=1))  "
   ]
  },
  {
   "cell_type": "markdown",
   "metadata": {},
   "source": [
    "### element-wise comparison"
   ]
  },
  {
   "cell_type": "code",
   "execution_count": 46,
   "metadata": {},
   "outputs": [],
   "source": [
    "arr1 = np.array([1,2,3,4,5])\n",
    "arr2 = np.array([5,4,3,2,1])"
   ]
  },
  {
   "cell_type": "code",
   "execution_count": 47,
   "metadata": {},
   "outputs": [
    {
     "name": "stdout",
     "output_type": "stream",
     "text": [
      "[False False  True False False]\n",
      "[ True  True False False False]\n"
     ]
    }
   ],
   "source": [
    "# return an array of bools\n",
    "print(arr1 == arr2)    \n",
    "print(arr1 < 3)"
   ]
  }
 ],
 "metadata": {
  "kernelspec": {
   "display_name": "Python 3",
   "language": "python",
   "name": "python3"
  },
  "language_info": {
   "codemirror_mode": {
    "name": "ipython",
    "version": 3
   },
   "file_extension": ".py",
   "mimetype": "text/x-python",
   "name": "python",
   "nbconvert_exporter": "python",
   "pygments_lexer": "ipython3",
   "version": "3.11.9"
  }
 },
 "nbformat": 4,
 "nbformat_minor": 2
}
