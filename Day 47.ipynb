{
 "cells": [
  {
   "cell_type": "code",
   "execution_count": 23,
   "metadata": {},
   "outputs": [],
   "source": [
    "import numpy as np"
   ]
  },
  {
   "cell_type": "markdown",
   "metadata": {},
   "source": [
    "### select the unique elements from an array"
   ]
  },
  {
   "cell_type": "code",
   "execution_count": 24,
   "metadata": {},
   "outputs": [
    {
     "name": "stdout",
     "output_type": "stream",
     "text": [
      "[1 2 3 4 5 6]\n"
     ]
    }
   ],
   "source": [
    "arr = np.array([1,1,2,2,3,3,4,5,6])\n",
    "print(np.unique(arr))"
   ]
  },
  {
   "cell_type": "code",
   "execution_count": 25,
   "metadata": {},
   "outputs": [
    {
     "name": "stdout",
     "output_type": "stream",
     "text": [
      "[1 2 3 4 5 6]\n",
      "[2 2 2 1 1 1]\n"
     ]
    }
   ],
   "source": [
    "# return the number of times each unique item appears\n",
    "arr = np.array([1,1,2,2,3,3,4,5,6])\n",
    "uniques, counts = np.unique(arr, return_counts=True)\n",
    "print(uniques)\n",
    "print(counts)"
   ]
  },
  {
   "cell_type": "markdown",
   "metadata": {},
   "source": [
    "### compute the intersection & union of two arrays"
   ]
  },
  {
   "cell_type": "code",
   "execution_count": 26,
   "metadata": {},
   "outputs": [],
   "source": [
    "arr1 = np.array([1,2,3,4,5])\n",
    "arr2 = np.array([3,4,5,6,7])"
   ]
  },
  {
   "cell_type": "code",
   "execution_count": 27,
   "metadata": {},
   "outputs": [
    {
     "name": "stdout",
     "output_type": "stream",
     "text": [
      "[3 4 5]\n"
     ]
    }
   ],
   "source": [
    "# intersection\n",
    "print(np.intersect1d(arr1, arr2))"
   ]
  },
  {
   "cell_type": "code",
   "execution_count": 28,
   "metadata": {},
   "outputs": [
    {
     "name": "stdout",
     "output_type": "stream",
     "text": [
      "[1 2 3 4 5 6 7]\n"
     ]
    }
   ],
   "source": [
    "# union\n",
    "print(np.union1d(arr1, arr2))"
   ]
  },
  {
   "cell_type": "markdown",
   "metadata": {},
   "source": [
    "### compute whether each element of an array is contained in another"
   ]
  },
  {
   "cell_type": "code",
   "execution_count": 29,
   "metadata": {},
   "outputs": [
    {
     "name": "stdout",
     "output_type": "stream",
     "text": [
      "[False False  True  True  True]\n"
     ]
    }
   ],
   "source": [
    "print(np.in1d(arr1, arr2))"
   ]
  },
  {
   "cell_type": "code",
   "execution_count": 30,
   "metadata": {},
   "outputs": [
    {
     "name": "stdout",
     "output_type": "stream",
     "text": [
      "[False False  True  True  True]\n"
     ]
    }
   ],
   "source": [
    "# preserve the shape of the array in the output, if the array is of higher dimensions\n",
    "print(np.isin(arr1, arr2))"
   ]
  },
  {
   "cell_type": "markdown",
   "metadata": {},
   "source": [
    "### compute the elements in an array that are not in another"
   ]
  },
  {
   "cell_type": "code",
   "execution_count": 31,
   "metadata": {},
   "outputs": [
    {
     "name": "stdout",
     "output_type": "stream",
     "text": [
      "[1 2]\n"
     ]
    }
   ],
   "source": [
    "print(np.setdiff1d(arr1, arr2))"
   ]
  },
  {
   "cell_type": "markdown",
   "metadata": {},
   "source": [
    "### compute the elements in either of two arrays, but not both"
   ]
  },
  {
   "cell_type": "code",
   "execution_count": 32,
   "metadata": {},
   "outputs": [
    {
     "name": "stdout",
     "output_type": "stream",
     "text": [
      "[1 2 6 7]\n"
     ]
    }
   ],
   "source": [
    "print(np.setxor1d(arr1, arr2))"
   ]
  },
  {
   "cell_type": "code",
   "execution_count": 33,
   "metadata": {},
   "outputs": [],
   "source": [
    "arr1 = np.random.rand(5,5)\n",
    "arr2 = np.random.rand(5,5)"
   ]
  },
  {
   "cell_type": "code",
   "execution_count": 34,
   "metadata": {},
   "outputs": [
    {
     "name": "stdout",
     "output_type": "stream",
     "text": [
      "[[0.77425775 0.92478496 0.9970862  0.77856539 1.01179095]\n",
      " [0.83098407 1.00311884 1.18658335 1.2558105  2.01116025]\n",
      " [1.07404034 0.94243988 1.32890363 1.37481715 1.77186641]\n",
      " [0.28147701 0.26305284 0.66217351 0.69815586 0.7212657 ]\n",
      " [0.76935014 1.16682167 0.94266137 0.81566087 1.42279285]]\n",
      "[[0.77425775 0.92478496 0.9970862  0.77856539 1.01179095]\n",
      " [0.83098407 1.00311884 1.18658335 1.2558105  2.01116025]\n",
      " [1.07404034 0.94243988 1.32890363 1.37481715 1.77186641]\n",
      " [0.28147701 0.26305284 0.66217351 0.69815586 0.7212657 ]\n",
      " [0.76935014 1.16682167 0.94266137 0.81566087 1.42279285]]\n",
      "[[0.77425775 0.92478496 0.9970862  0.77856539 1.01179095]\n",
      " [0.83098407 1.00311884 1.18658335 1.2558105  2.01116025]\n",
      " [1.07404034 0.94243988 1.32890363 1.37481715 1.77186641]\n",
      " [0.28147701 0.26305284 0.66217351 0.69815586 0.7212657 ]\n",
      " [0.76935014 1.16682167 0.94266137 0.81566087 1.42279285]]\n"
     ]
    }
   ],
   "source": [
    "print(arr1.dot(arr2))\n",
    "# or\n",
    "print(np.dot(arr1, arr2))\n",
    "# or\n",
    "print(arr1 @ arr2)"
   ]
  },
  {
   "cell_type": "markdown",
   "metadata": {},
   "source": [
    "### QR factorization "
   ]
  },
  {
   "cell_type": "code",
   "execution_count": 35,
   "metadata": {},
   "outputs": [
    {
     "name": "stdout",
     "output_type": "stream",
     "text": [
      "[[-0.45651327  0.55928911  0.65954107  0.19420753 -0.0779765 ]\n",
      " [-0.486901   -0.03912209 -0.36394037 -0.1111797  -0.78522822]\n",
      " [-0.4903966  -0.41529204 -0.15459941  0.68830098  0.29897238]\n",
      " [-0.4703316   0.339338   -0.41640139 -0.45503418  0.53215758]\n",
      " [-0.30466771 -0.63090998  0.48503804 -0.51875636  0.06899369]]\n",
      "[[-1.49112364 -1.27917559 -1.34455294 -1.4042316  -0.64988121]\n",
      " [ 0.         -0.59538996 -0.0195952  -0.42177294 -0.33576443]\n",
      " [ 0.          0.          0.59364187 -0.10603504 -0.07100378]\n",
      " [ 0.          0.          0.         -0.40469398  0.03232002]\n",
      " [ 0.          0.          0.          0.          0.10060606]]\n"
     ]
    }
   ],
   "source": [
    "arr = np.random.rand(5,5)\n",
    "\n",
    "q, r = np.linalg.qr(arr)\n",
    "print(q)\n",
    "print(r)"
   ]
  },
  {
   "cell_type": "markdown",
   "metadata": {},
   "source": [
    "### compute eigen values"
   ]
  },
  {
   "cell_type": "code",
   "execution_count": 36,
   "metadata": {},
   "outputs": [
    {
     "name": "stdout",
     "output_type": "stream",
     "text": [
      "[ 2.67422113+0.j          0.38543567+0.65658459j  0.38543567-0.65658459j\n",
      " -0.25849421+0.j          0.08327467+0.j        ]\n"
     ]
    }
   ],
   "source": [
    "arr = np.random.rand(5,5)\n",
    "print(np.linalg.eigvals(arr))"
   ]
  },
  {
   "cell_type": "markdown",
   "metadata": {},
   "source": [
    "### eigen value decomposition"
   ]
  },
  {
   "cell_type": "code",
   "execution_count": 37,
   "metadata": {},
   "outputs": [
    {
     "name": "stdout",
     "output_type": "stream",
     "text": [
      "[ 2.91018435+0.j        -0.33659755+0.0892956j -0.33659755-0.0892956j\n",
      "  0.35434116+0.j         0.07129478+0.j       ]\n",
      "[[ 0.44969771+0.j         -0.40072624-0.30661426j -0.40072624+0.30661426j\n",
      "  -0.30735991+0.j         -0.51589677+0.j        ]\n",
      " [ 0.47249498+0.j          0.15246201+0.0472271j   0.15246201-0.0472271j\n",
      "  -0.14655206+0.j         -0.36547402+0.j        ]\n",
      " [ 0.42257384+0.j         -0.68965241+0.j         -0.68965241-0.j\n",
      "   0.05516558+0.j         -0.45503333+0.j        ]\n",
      " [ 0.45087825+0.j          0.3498935 -0.08019259j  0.3498935 +0.08019259j\n",
      "   0.80883268+0.j          0.42344383+0.j        ]\n",
      " [ 0.43893123+0.j          0.28292623+0.18816773j  0.28292623-0.18816773j\n",
      "  -0.47623401+0.j          0.46251405+0.j        ]]\n"
     ]
    }
   ],
   "source": [
    "arr = np.random.rand(5,5)\n",
    "\n",
    "w, v = np.linalg.eig(arr)\n",
    "print(w)    # eigen values\n",
    "print(v)    # eigen vectors"
   ]
  },
  {
   "cell_type": "markdown",
   "metadata": {},
   "source": [
    "### compute the trace & determinant"
   ]
  },
  {
   "cell_type": "code",
   "execution_count": 38,
   "metadata": {},
   "outputs": [
    {
     "name": "stdout",
     "output_type": "stream",
     "text": [
      "2.6626251978767606\n"
     ]
    }
   ],
   "source": [
    "# notice this is not a function in linalg!!!\n",
    "print(np.trace(arr))    \n"
   ]
  },
  {
   "cell_type": "code",
   "execution_count": 39,
   "metadata": {},
   "outputs": [
    {
     "name": "stdout",
     "output_type": "stream",
     "text": [
      "0.008915772358665136\n"
     ]
    }
   ],
   "source": [
    "print(np.linalg.det(arr))"
   ]
  },
  {
   "cell_type": "markdown",
   "metadata": {},
   "source": [
    "### calculate the inverse/psedo-inverse of a matrix"
   ]
  },
  {
   "cell_type": "code",
   "execution_count": 40,
   "metadata": {},
   "outputs": [],
   "source": [
    "arr = np.random.rand(5,5)"
   ]
  },
  {
   "cell_type": "code",
   "execution_count": 41,
   "metadata": {},
   "outputs": [
    {
     "name": "stdout",
     "output_type": "stream",
     "text": [
      "[[-0.35365157  1.21535763  0.55944683  0.0421794  -0.6917594 ]\n",
      " [ 9.34088117 -7.3215421  -2.21138397  0.81660251 -4.78253638]\n",
      " [-5.84068391  4.71873105  0.04798976  0.45850454  3.45060887]\n",
      " [-4.33725813  2.22383461  1.94632718 -0.03930702  2.36582686]\n",
      " [-0.37476192  1.25462108  0.044171   -1.04343814  1.19854586]]\n"
     ]
    }
   ],
   "source": [
    "# compute the inverse of a matrix\n",
    "print(np.linalg.inv(arr))"
   ]
  },
  {
   "cell_type": "code",
   "execution_count": 42,
   "metadata": {},
   "outputs": [
    {
     "name": "stdout",
     "output_type": "stream",
     "text": [
      "[[-0.35365157  1.21535763  0.55944683  0.0421794  -0.6917594 ]\n",
      " [ 9.34088117 -7.3215421  -2.21138397  0.81660251 -4.78253638]\n",
      " [-5.84068391  4.71873105  0.04798976  0.45850454  3.45060887]\n",
      " [-4.33725813  2.22383461  1.94632718 -0.03930702  2.36582686]\n",
      " [-0.37476192  1.25462108  0.044171   -1.04343814  1.19854586]]\n"
     ]
    }
   ],
   "source": [
    "# compute the psudo-inverse of a matrix\n",
    "print(np.linalg.pinv(arr))"
   ]
  },
  {
   "cell_type": "markdown",
   "metadata": {},
   "source": [
    "### solve a linear system"
   ]
  },
  {
   "cell_type": "code",
   "execution_count": 43,
   "metadata": {},
   "outputs": [
    {
     "name": "stdout",
     "output_type": "stream",
     "text": [
      "[  0.4653248  -32.58262679  22.82781     17.62129886   4.08596998]\n"
     ]
    }
   ],
   "source": [
    "# solve a linear system in closed form\n",
    "y = [1,2,3,4,5]\n",
    "print(np.linalg.solve(arr, y))"
   ]
  },
  {
   "cell_type": "code",
   "execution_count": 44,
   "metadata": {},
   "outputs": [
    {
     "name": "stdout",
     "output_type": "stream",
     "text": [
      "[  0.4653248  -32.58262679  22.82781     17.62129886   4.08596998]\n",
      "[]\n",
      "5\n",
      "[2.93763487 0.6841422  0.62891507 0.5254785  0.06095237]\n"
     ]
    },
    {
     "name": "stderr",
     "output_type": "stream",
     "text": [
      "C:\\Users\\Home\\AppData\\Local\\Temp\\ipykernel_15140\\727852024.py:3: FutureWarning: `rcond` parameter will change to the default of machine precision times ``max(M, N)`` where M and N are the input matrix dimensions.\n",
      "To use the future default and silence this warning we advise to pass `rcond=None`, to keep using the old, explicitly pass `rcond=-1`.\n",
      "  solution, residuals, rank, singular = np.linalg.lstsq(arr, y)\n"
     ]
    }
   ],
   "source": [
    "# calculate the least-squares solution of a linear system\n",
    "y = [1,2,3,4,5]\n",
    "solution, residuals, rank, singular = np.linalg.lstsq(arr, y)\n",
    "print(solution)\n",
    "print(residuals)\n",
    "print(rank)\n",
    "print(singular)"
   ]
  }
 ],
 "metadata": {
  "kernelspec": {
   "display_name": "Python 3",
   "language": "python",
   "name": "python3"
  },
  "language_info": {
   "codemirror_mode": {
    "name": "ipython",
    "version": 3
   },
   "file_extension": ".py",
   "mimetype": "text/x-python",
   "name": "python",
   "nbconvert_exporter": "python",
   "pygments_lexer": "ipython3",
   "version": "3.11.9"
  }
 },
 "nbformat": 4,
 "nbformat_minor": 2
}
