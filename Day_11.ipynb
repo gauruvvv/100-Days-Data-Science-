{
 "cells": [
  {
   "cell_type": "code",
   "execution_count": 2,
   "metadata": {},
   "outputs": [
    {
     "name": "stdout",
     "output_type": "stream",
     "text": [
      "4\n",
      "9\n"
     ]
    }
   ],
   "source": [
    "#Higher functions\n",
    "\n",
    "#lambda function\n",
    "\n",
    "ad = lambda x:x+x\n",
    "\n",
    "mul = lambda x:x*x\n",
    "\n",
    "print(ad(2))\n",
    "print(mul(3))"
   ]
  },
  {
   "cell_type": "code",
   "execution_count": 3,
   "metadata": {},
   "outputs": [
    {
     "name": "stdout",
     "output_type": "stream",
     "text": [
      "[1, 4, 9, 16, 25]\n",
      "[21, 22, 23, 24, 25]\n"
     ]
    }
   ],
   "source": [
    "#map function\n",
    "\n",
    "lst = [1,2,3,4,5]\n",
    "\n",
    "sqr = lambda x:x*x\n",
    "\n",
    "sqrs = list(map(sqr, lst))\n",
    "print(sqrs)\n",
    "\n",
    "ads = list(map(lambda a:a+20, lst))\n",
    "print(ads)"
   ]
  },
  {
   "cell_type": "code",
   "execution_count": null,
   "metadata": {},
   "outputs": [],
   "source": [
    "#reduce\n",
    "#provided function is cumulatively applied to all elements of the list\n",
    "\n",
    "from functools import reduce\n",
    "\n",
    "\n",
    "a = reduce(lambda a,b:a+b,range(1,21))\n",
    "print(a)"
   ]
  },
  {
   "cell_type": "code",
   "execution_count": null,
   "metadata": {},
   "outputs": [],
   "source": [
    "#ReGex Regular expression\n",
    "\n",
    "#A RegEx, or Regular Expression, is a sequence of characters that forms a search pattern.\n",
    "\n",
    "#RegEx can be used to check if a string contains the specified search pattern.\n",
    "\n",
    "\n"
   ]
  },
  {
   "cell_type": "code",
   "execution_count": 4,
   "metadata": {},
   "outputs": [
    {
     "name": "stdout",
     "output_type": "stream",
     "text": [
      "<re.Match object; span=(5, 12), match='amazing'>\n"
     ]
    }
   ],
   "source": [
    "import re\n",
    "\n",
    "pattern = 'amazing'\n",
    "\n",
    "#compile converts a regular object into a regex object\n",
    "re_obj = re.compile(pattern)\n",
    "\n",
    "# String\n",
    "s = 'Very amazing to learn Python.'\n",
    "\n",
    "# Searching for pattern in the string using RegEx Object\n",
    "f = re_obj.search(s)\n",
    "\n",
    "print(f)"
   ]
  },
  {
   "cell_type": "code",
   "execution_count": 5,
   "metadata": {},
   "outputs": [
    {
     "name": "stdout",
     "output_type": "stream",
     "text": [
      "['I', 'a', 'a', 'u', 'u']\n"
     ]
    }
   ],
   "source": [
    "#matches values form both the strings and returns the matching pattern\n",
    "\n",
    "import re\n",
    "\n",
    "s = ' I am Gauruvvv'\n",
    "re_obj = re.compile('[aeiouAEIOU]')\n",
    "\n",
    "result = re_obj.findall(s)\n",
    "print(result)"
   ]
  },
  {
   "cell_type": "code",
   "execution_count": 10,
   "metadata": {},
   "outputs": [
    {
     "name": "stdout",
     "output_type": "stream",
     "text": [
      "<re.Match object; span=(5, 11), match='Gaurav'>\n",
      "None\n",
      "<re.Match object; span=(5, 11), match='Gaurav'>\n",
      "Gaurav\n"
     ]
    }
   ],
   "source": [
    "s = 'I am Gaurav'\n",
    "\n",
    "print(re.search('Gaurav', s))\n",
    "print(re.search('gaurav', s))\n",
    "print(re.search('Gaurav', s, flags= re.I))\n",
    "#re.I implies case insensitivty\n",
    "\n",
    "res = re.search('Gaurav', s, flags= re.I)\n",
    "\n",
    "print(res.group())\n",
    "#group retrieves the matched substring\n"
   ]
  },
  {
   "cell_type": "code",
   "execution_count": 11,
   "metadata": {},
   "outputs": [
    {
     "name": "stdout",
     "output_type": "stream",
     "text": [
      "<re.Match object; span=(5, 13), match='Gauruvvv'>\n",
      "(5, 13)\n",
      "5\n",
      "13\n",
      "13\n",
      "I am Gauruvvv\n",
      "re.compile('Gauruvvv')\n",
      "((5, 13),)\n"
     ]
    }
   ],
   "source": [
    "s = 'I am Gauruvvv'\n",
    "res = re.search('Gauruvvv', s)\n",
    "\n",
    "print(res)\n",
    "print(res.span())\n",
    "print(res.start())\n",
    "print(res.end())\n",
    "print(res.endpos)\n",
    "print(res.string)\n",
    "print(res.re)\n",
    "print(res.regs)"
   ]
  },
  {
   "cell_type": "code",
   "execution_count": 18,
   "metadata": {},
   "outputs": [
    {
     "name": "stdout",
     "output_type": "stream",
     "text": [
      "['I', 'a', 'a', 'u', 'u']\n",
      "(5, 13)\n"
     ]
    }
   ],
   "source": [
    "import re\n",
    "\n",
    "s = 'I am Gauruvvv'\n",
    "\n",
    "re_obj = re.compile('[aeiouAEIOU]')\n",
    "res = re.search('Gauruvvv',s)\n",
    "\n",
    "result = re_obj.findall(s)\n",
    "print(result)\n",
    "print(res.span())"
   ]
  },
  {
   "cell_type": "code",
   "execution_count": null,
   "metadata": {},
   "outputs": [],
   "source": [
    "#re.match('what do you wnat to search', where you want to search) only searches at the beginning of the string,\n",
    "#can call it a shortened version of re.search()"
   ]
  },
  {
   "cell_type": "code",
   "execution_count": 21,
   "metadata": {},
   "outputs": [
    {
     "name": "stdout",
     "output_type": "stream",
     "text": [
      "None\n",
      "<re.Match object; span=(0, 33), match='ab abb abbb aabb ab aaab aaabb ab'>\n"
     ]
    }
   ],
   "source": [
    "s = 'ab abb abbb aabb ab aaab aaabb ab'\n",
    "print(re.fullmatch(' ab ', s))\n",
    "#match the full range and return every occurance\n",
    "print(re.fullmatch('ab abb abbb aabb ab aaab aaabb ab', s))"
   ]
  },
  {
   "cell_type": "code",
   "execution_count": 22,
   "metadata": {},
   "outputs": [
    {
     "name": "stdout",
     "output_type": "stream",
     "text": [
      "None\n",
      "<re.Match object; span=(0, 14), match='Gauruvvv is me'>\n"
     ]
    }
   ],
   "source": [
    "s = 'Gauruvvv is me'\n",
    "print(re.fullmatch('Gaurav', s))\n",
    "\n",
    "res = re.fullmatch('Gauruvvv is me', s)\n",
    "print(res)\n",
    "\n"
   ]
  },
  {
   "cell_type": "code",
   "execution_count": 24,
   "metadata": {},
   "outputs": [
    {
     "name": "stdout",
     "output_type": "stream",
     "text": [
      "['aa', 'aa', 'aa', 'aa', 'aa']\n"
     ]
    }
   ],
   "source": [
    "s = 'a aa aaa abaa aabaa'\n",
    "res = re.findall('aa', s)\n",
    "#findall occurances of aa and return\n",
    "print(res)"
   ]
  }
 ],
 "metadata": {
  "kernelspec": {
   "display_name": "Python 3",
   "language": "python",
   "name": "python3"
  },
  "language_info": {
   "codemirror_mode": {
    "name": "ipython",
    "version": 3
   },
   "file_extension": ".py",
   "mimetype": "text/x-python",
   "name": "python",
   "nbconvert_exporter": "python",
   "pygments_lexer": "ipython3",
   "version": "3.11.9"
  }
 },
 "nbformat": 4,
 "nbformat_minor": 2
}
