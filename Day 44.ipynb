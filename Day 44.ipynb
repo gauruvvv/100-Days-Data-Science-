{
 "cells": [
  {
   "cell_type": "code",
   "execution_count": 1,
   "metadata": {},
   "outputs": [],
   "source": [
    "import numpy as np"
   ]
  },
  {
   "cell_type": "code",
   "execution_count": 2,
   "metadata": {},
   "outputs": [],
   "source": [
    "arr = np.random.rand(5,5)"
   ]
  },
  {
   "cell_type": "markdown",
   "metadata": {},
   "source": [
    "### sort an array along a specified axis"
   ]
  },
  {
   "cell_type": "code",
   "execution_count": 3,
   "metadata": {},
   "outputs": [
    {
     "name": "stdout",
     "output_type": "stream",
     "text": [
      "[[0.00291565 0.10388148 0.12048598 0.04178355 0.00302831]\n",
      " [0.11702321 0.17503959 0.21112718 0.53025565 0.0464994 ]\n",
      " [0.53725582 0.49380976 0.7492533  0.78708372 0.15379198]\n",
      " [0.72313476 0.53158239 0.94291801 0.82932469 0.3530157 ]\n",
      " [0.75612406 0.97774886 0.99296845 0.83846543 0.99810309]]\n"
     ]
    }
   ],
   "source": [
    "# sort along the row and return a copy\n",
    "print(np.sort(arr, axis=0))   "
   ]
  },
  {
   "cell_type": "code",
   "execution_count": 4,
   "metadata": {},
   "outputs": [
    {
     "name": "stdout",
     "output_type": "stream",
     "text": [
      "[[0.00291565 0.10388148 0.12048598 0.04178355 0.00302831]\n",
      " [0.11702321 0.17503959 0.21112718 0.53025565 0.0464994 ]\n",
      " [0.53725582 0.49380976 0.7492533  0.78708372 0.15379198]\n",
      " [0.72313476 0.53158239 0.94291801 0.82932469 0.3530157 ]\n",
      " [0.75612406 0.97774886 0.99296845 0.83846543 0.99810309]]\n"
     ]
    }
   ],
   "source": [
    "# sort along the row in place\n",
    "arr.sort(axis=0)\n",
    "print(arr)"
   ]
  },
  {
   "cell_type": "code",
   "execution_count": 5,
   "metadata": {},
   "outputs": [
    {
     "name": "stdout",
     "output_type": "stream",
     "text": [
      "[[0.00291565 0.00302831 0.04178355 0.10388148 0.12048598]\n",
      " [0.0464994  0.11702321 0.17503959 0.21112718 0.53025565]\n",
      " [0.15379198 0.49380976 0.53725582 0.7492533  0.78708372]\n",
      " [0.3530157  0.53158239 0.72313476 0.82932469 0.94291801]\n",
      " [0.75612406 0.83846543 0.97774886 0.99296845 0.99810309]]\n"
     ]
    }
   ],
   "source": [
    "# sort along the column and return a copy\n",
    "print(np.sort(arr, axis=1))    "
   ]
  },
  {
   "cell_type": "code",
   "execution_count": 6,
   "metadata": {},
   "outputs": [
    {
     "name": "stdout",
     "output_type": "stream",
     "text": [
      "[[0.00291565 0.00302831 0.04178355 0.10388148 0.12048598]\n",
      " [0.0464994  0.11702321 0.17503959 0.21112718 0.53025565]\n",
      " [0.15379198 0.49380976 0.53725582 0.7492533  0.78708372]\n",
      " [0.3530157  0.53158239 0.72313476 0.82932469 0.94291801]\n",
      " [0.75612406 0.83846543 0.97774886 0.99296845 0.99810309]]\n"
     ]
    }
   ],
   "source": [
    "# sort along the column in place\n",
    "arr.sort(axis=1)    \n",
    "print(arr)"
   ]
  },
  {
   "cell_type": "markdown",
   "metadata": {},
   "source": [
    "### compute the indices that would sort an array along a specified axis"
   ]
  },
  {
   "cell_type": "code",
   "execution_count": 7,
   "metadata": {},
   "outputs": [],
   "source": [
    "arr = np.random.rand(5,5)"
   ]
  },
  {
   "cell_type": "code",
   "execution_count": 8,
   "metadata": {},
   "outputs": [
    {
     "name": "stdout",
     "output_type": "stream",
     "text": [
      "[[4 3 1 3 2]\n",
      " [0 2 4 2 1]\n",
      " [1 4 2 0 4]\n",
      " [3 1 3 4 0]\n",
      " [2 0 0 1 3]]\n"
     ]
    }
   ],
   "source": [
    "# along the row\n",
    "print(np.argsort(arr, axis=0))"
   ]
  },
  {
   "cell_type": "code",
   "execution_count": 9,
   "metadata": {},
   "outputs": [
    {
     "name": "stdout",
     "output_type": "stream",
     "text": [
      "[[0 4 2 3 1]\n",
      " [2 4 0 1 3]\n",
      " [4 2 1 3 0]\n",
      " [1 2 3 0 4]\n",
      " [0 4 2 1 3]]\n"
     ]
    }
   ],
   "source": [
    "# along the column\n",
    "print(np.argsort(arr, axis=1))"
   ]
  },
  {
   "cell_type": "code",
   "execution_count": 10,
   "metadata": {},
   "outputs": [
    {
     "name": "stdout",
     "output_type": "stream",
     "text": [
      "[ 7 16 14 20  9 24 22 12 17  0 11  5  4 18 21  6 13  2 15 10  3 19 23  8\n",
      "  1]\n"
     ]
    }
   ],
   "source": [
    "# if axis=None, return the indices of a flattened array\n",
    "print(np.argsort(arr, axis=None))"
   ]
  }
 ],
 "metadata": {
  "kernelspec": {
   "display_name": "Python 3",
   "language": "python",
   "name": "python3"
  },
  "language_info": {
   "codemirror_mode": {
    "name": "ipython",
    "version": 3
   },
   "file_extension": ".py",
   "mimetype": "text/x-python",
   "name": "python",
   "nbconvert_exporter": "python",
   "pygments_lexer": "ipython3",
   "version": "3.11.9"
  }
 },
 "nbformat": 4,
 "nbformat_minor": 2
}
