{
  "nbformat": 4,
  "nbformat_minor": 0,
  "metadata": {
    "colab": {
      "provenance": []
    },
    "kernelspec": {
      "name": "python3",
      "display_name": "Python 3"
    },
    "language_info": {
      "name": "python"
    }
  },
  "cells": [
    {
      "cell_type": "code",
      "execution_count": null,
      "metadata": {
        "colab": {
          "base_uri": "https://localhost:8080/"
        },
        "id": "-CTZKZaGrPu2",
        "outputId": "7712ab4e-2779-40b1-cdd4-75d516034af2"
      },
      "outputs": [
        {
          "output_type": "stream",
          "name": "stdout",
          "text": [
            "{'name': 'Snehal', 'age': 22, 'address': 'sarud', 'marks': [99, 100], 'subjects': ('OS', 'DB', 'DSA')}\n"
          ]
        }
      ],
      "source": [
        "#Dictionaries\n",
        "#mutable data type\n",
        "\n",
        "sub = ('OS', 'DB', 'DSA')\n",
        "d = {'name':'Snehal', 'age':22, 'address':'sarud', 'marks':[99,100], 'subjects':sub}\n",
        "print(d)\n"
      ]
    },
    {
      "cell_type": "code",
      "source": [
        "#dict method - list to dictionary\n",
        "\n",
        "t = [{1,'Gaurav'}, (2,'Tilak'), (3,'Chanchal'), (4,'Rona')]\n",
        "d1 = dict(t)\n",
        "print(d1)"
      ],
      "metadata": {
        "colab": {
          "base_uri": "https://localhost:8080/"
        },
        "id": "jV9Wgtk9wNL4",
        "outputId": "e6b3ae6a-e2f2-49e2-91b1-12a40c604f51"
      },
      "execution_count": null,
      "outputs": [
        {
          "output_type": "stream",
          "name": "stdout",
          "text": [
            "{1: 'Gaurav', 2: 'Tilak', 3: 'Chanchal', 4: 'Rona'}\n"
          ]
        }
      ]
    },
    {
      "cell_type": "code",
      "source": [
        "#value can be anything but the key would need to be an immutable\n",
        "t = (1,2)\n",
        "d = {[1]:23, t:34}\n",
        "print(d)\n"
      ],
      "metadata": {
        "colab": {
          "base_uri": "https://localhost:8080/",
          "height": 176
        },
        "id": "M4qPGx4BwgPL",
        "outputId": "9f742b4c-bda7-42dd-ec7d-2900496cf535"
      },
      "execution_count": null,
      "outputs": [
        {
          "output_type": "error",
          "ename": "TypeError",
          "evalue": "unhashable type: 'list'",
          "traceback": [
            "\u001b[0;31m---------------------------------------------------------------------------\u001b[0m",
            "\u001b[0;31mTypeError\u001b[0m                                 Traceback (most recent call last)",
            "\u001b[0;32m<ipython-input-5-1e4ba622b2ab>\u001b[0m in \u001b[0;36m<cell line: 2>\u001b[0;34m()\u001b[0m\n\u001b[1;32m      1\u001b[0m \u001b[0mt\u001b[0m \u001b[0;34m=\u001b[0m \u001b[0;34m(\u001b[0m\u001b[0;36m1\u001b[0m\u001b[0;34m,\u001b[0m\u001b[0;36m2\u001b[0m\u001b[0;34m)\u001b[0m\u001b[0;34m\u001b[0m\u001b[0;34m\u001b[0m\u001b[0m\n\u001b[0;32m----> 2\u001b[0;31m \u001b[0md\u001b[0m \u001b[0;34m=\u001b[0m \u001b[0;34m{\u001b[0m\u001b[0;34m[\u001b[0m\u001b[0;36m1\u001b[0m\u001b[0;34m]\u001b[0m\u001b[0;34m:\u001b[0m\u001b[0;36m23\u001b[0m\u001b[0;34m,\u001b[0m \u001b[0mt\u001b[0m\u001b[0;34m:\u001b[0m\u001b[0;36m34\u001b[0m\u001b[0;34m}\u001b[0m\u001b[0;34m\u001b[0m\u001b[0;34m\u001b[0m\u001b[0m\n\u001b[0m\u001b[1;32m      3\u001b[0m \u001b[0mprint\u001b[0m\u001b[0;34m(\u001b[0m\u001b[0md\u001b[0m\u001b[0;34m)\u001b[0m\u001b[0;34m\u001b[0m\u001b[0;34m\u001b[0m\u001b[0m\n",
            "\u001b[0;31mTypeError\u001b[0m: unhashable type: 'list'"
          ]
        }
      ]
    },
    {
      "cell_type": "code",
      "source": [
        "#to access to values off a dict, you ask for the calue using the key\n",
        "\n",
        "d = {'name':'Gaurav', 'age':20, 'addr':['Ben', 'Dover']}\n",
        "print(d['addr'])\n"
      ],
      "metadata": {
        "colab": {
          "base_uri": "https://localhost:8080/"
        },
        "id": "AOfQ0alhyDg_",
        "outputId": "d14dde35-54cc-416a-9d66-e04886fa0faf"
      },
      "execution_count": null,
      "outputs": [
        {
          "output_type": "stream",
          "name": "stdout",
          "text": [
            "['Ben', 'Dover']\n"
          ]
        }
      ]
    },
    {
      "cell_type": "code",
      "source": [
        "#other ways to access dict contents\n",
        "\n",
        "d = {'name':'Gaurav', 'age':20, 'addr':['Ben', 'Dover']}\n",
        "\n",
        "print(d.items())\n",
        "print(d.keys())\n",
        "print(d.values())"
      ],
      "metadata": {
        "colab": {
          "base_uri": "https://localhost:8080/"
        },
        "id": "9rCIsholzaBd",
        "outputId": "a2e6399f-24b2-445a-c642-d21bdec595a9"
      },
      "execution_count": null,
      "outputs": [
        {
          "output_type": "stream",
          "name": "stdout",
          "text": [
            "dict_items([('name', 'Gaurav'), ('age', 20), ('addr', ['Ben', 'Dover'])])\n",
            "dict_keys(['name', 'age', 'addr'])\n",
            "dict_values(['Gaurav', 20, ['Ben', 'Dover']])\n"
          ]
        }
      ]
    },
    {
      "cell_type": "code",
      "source": [
        "#looping through a dictionary\n",
        "\n",
        "d = {'name':'Gaurav', 'age':20, 'addr':['Ben', 'Dover']}\n",
        "\n",
        "for i in d.keys():\n",
        "  print(i,\",\",d[i])"
      ],
      "metadata": {
        "colab": {
          "base_uri": "https://localhost:8080/"
        },
        "id": "dNxZgxzp1Odv",
        "outputId": "2567d8ea-b2b2-446a-bb25-15dcd079d33a"
      },
      "execution_count": null,
      "outputs": [
        {
          "output_type": "stream",
          "name": "stdout",
          "text": [
            "name , Gaurav\n",
            "age , 20\n",
            "addr , ['Ben', 'Dover']\n"
          ]
        }
      ]
    },
    {
      "cell_type": "code",
      "source": [
        "d = {'name': 'G', 'age': 21, 'addr': 'Del'}\n",
        "print(d)\n",
        "\n",
        "d.pop('name')\n",
        "print(d)\n",
        "\n",
        "del d['age']\n",
        "print(d)\n",
        "\n",
        "d.clear()\n",
        "print(d)\n",
        "\n"
      ],
      "metadata": {
        "colab": {
          "base_uri": "https://localhost:8080/"
        },
        "id": "lYmWdcCzdfdW",
        "outputId": "2d621ec0-801b-4f79-e529-a184cb2f9abc"
      },
      "execution_count": 6,
      "outputs": [
        {
          "output_type": "stream",
          "name": "stdout",
          "text": [
            "{'name': 'G', 'age': 21, 'addr': 'Del'}\n",
            "{'age': 21, 'addr': 'Del'}\n",
            "{'addr': 'Del'}\n",
            "{}\n"
          ]
        }
      ]
    },
    {
      "cell_type": "code",
      "source": [
        "d = {'name': 'G', 'age': 21, 'addr': 'Del'}\n",
        "\n",
        "for i in sorted(d.keys()):\n",
        "    print(i, d[i])\n",
        "\n",
        "print(sorted(d.keys()))\n"
      ],
      "metadata": {
        "colab": {
          "base_uri": "https://localhost:8080/"
        },
        "id": "vOG28UWhdq4e",
        "outputId": "0d083691-1947-4e0d-eb36-5acc015aaf3f"
      },
      "execution_count": 12,
      "outputs": [
        {
          "output_type": "stream",
          "name": "stdout",
          "text": [
            "addr Del\n",
            "age 21\n",
            "name G\n",
            "['addr', 'age', 'name']\n"
          ]
        }
      ]
    },
    {
      "cell_type": "code",
      "source": [
        "d = {'name': 'Sne', 'age': '21', 'addr': 'Kop'}\n",
        "\n",
        "keys = d.keys()\n",
        "values = d.values()\n",
        "\n",
        "n = dict(zip(values, keys))\n",
        "o = dict(sorted(n.items()))\n",
        "\n",
        "print(o)\n",
        "\n",
        "#The zip() function in Python is used to combine multiple iterables into a single iterable of tuples\n",
        "r = dict(zip(o.values(), o.keys()))\n",
        "print(r)"
      ],
      "metadata": {
        "id": "sxMELK3_i1U1"
      },
      "execution_count": null,
      "outputs": []
    },
    {
      "cell_type": "code",
      "source": [
        "d = dict.fromkeys(['name', 'age', 'addr'], 'Snehal')\n",
        "\n",
        "print(d)"
      ],
      "metadata": {
        "colab": {
          "base_uri": "https://localhost:8080/"
        },
        "id": "oGuM06urvYnx",
        "outputId": "92cecb1c-1ab9-4524-9c52-c17cf292a8a2"
      },
      "execution_count": 13,
      "outputs": [
        {
          "output_type": "stream",
          "name": "stdout",
          "text": [
            "{'name': 'Snehal', 'age': 'Snehal', 'addr': 'Snehal'}\n"
          ]
        }
      ]
    },
    {
      "cell_type": "code",
      "source": [
        "# Simple Dictionary\n",
        "d = {}\n",
        "d['name'] = 'Gaarav'\n",
        "d['age'] = [20]\n",
        "d['addr'] = ('Del')\n",
        "d['data'] = True\n",
        "print(d)\n",
        "\n",
        "d['name'] = 'Man'\n",
        "print(d)\n",
        "\n",
        "del d['name']\n",
        "print(d)\n",
        "\n",
        "d['name'] = 'Man'\n",
        "print(d)"
      ],
      "metadata": {
        "colab": {
          "base_uri": "https://localhost:8080/"
        },
        "id": "HmDwFlt6vav4",
        "outputId": "0e3fa752-822d-4772-c241-815987204782"
      },
      "execution_count": 14,
      "outputs": [
        {
          "output_type": "stream",
          "name": "stdout",
          "text": [
            "{'name': 'Gaarav', 'age': [20], 'addr': 'Del', 'data': True}\n",
            "{'name': 'Man', 'age': [20], 'addr': 'Del', 'data': True}\n",
            "{'age': [20], 'addr': 'Del', 'data': True}\n",
            "{'age': [20], 'addr': 'Del', 'data': True, 'name': 'Man'}\n"
          ]
        }
      ]
    }
  ]
}