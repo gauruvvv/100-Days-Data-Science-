{
 "cells": [
  {
   "cell_type": "code",
   "execution_count": 1,
   "metadata": {},
   "outputs": [
    {
     "name": "stdout",
     "output_type": "stream",
     "text": [
      "30\n",
      "18\n"
     ]
    }
   ],
   "source": [
    "#Lambda function\n",
    "\n",
    "ad = lambda a:a+10\n",
    "print(ad(20))\n",
    "\n",
    "sqr = lambda x:(x*2)+10\n",
    "print(sqr(4))"
   ]
  },
  {
   "cell_type": "code",
   "execution_count": 2,
   "metadata": {},
   "outputs": [
    {
     "name": "stdout",
     "output_type": "stream",
     "text": [
      "[1, 4, 9, 16, 25]\n"
     ]
    }
   ],
   "source": [
    "#map function is used to apply a particular function/operation to all elements of a data structure such as list or any iterable structure\n",
    "\n",
    "sqr = lambda x: x**2\n",
    "l = [1,2,3,4,5]\n",
    "\n",
    "sqrs = list(map(sqr, l))\n",
    "print(sqrs)\n",
    "\n"
   ]
  },
  {
   "cell_type": "code",
   "execution_count": 2,
   "metadata": {},
   "outputs": [
    {
     "name": "stdout",
     "output_type": "stream",
     "text": [
      "list of first 20 even integers:  [2, 4, 6, 8, 10, 12, 14, 16, 18, 20]\n"
     ]
    }
   ],
   "source": [
    "#filter function acts and filters iterable lists on given conditions\n",
    "even = list(filter(lambda x:x%2==0, range(1,21)))\n",
    "print(\"list of first 20 even integers: \", even)\n",
    "\n"
   ]
  },
  {
   "cell_type": "code",
   "execution_count": 3,
   "metadata": {},
   "outputs": [
    {
     "name": "stdout",
     "output_type": "stream",
     "text": [
      "{1, 2, 3, 4, 5, 7}\n"
     ]
    }
   ],
   "source": [
    "#data strutures\n",
    "#set\n",
    "\n",
    "s = {1,2,1,2,3,4,3,5,2,3,5,7}\n",
    "print(s)"
   ]
  },
  {
   "cell_type": "code",
   "execution_count": 5,
   "metadata": {},
   "outputs": [
    {
     "name": "stdout",
     "output_type": "stream",
     "text": [
      "{0, 'Tilak', 'Gaurav'}\n"
     ]
    }
   ],
   "source": [
    "#update function\n",
    "\n",
    "d={0}\n",
    "d.update(('Gaurav','Tilak'))\n",
    "print(d)"
   ]
  },
  {
   "cell_type": "code",
   "execution_count": 12,
   "metadata": {},
   "outputs": [
    {
     "name": "stdout",
     "output_type": "stream",
     "text": [
      "{1, 2, 3, 'x', 'z', 'y'}\n",
      "{1, 2, 'x', 'z', 'y'}\n",
      "{2, 'x', 'z', 'y'}\n"
     ]
    }
   ],
   "source": [
    "#union function\n",
    "\n",
    "a = {1,2,3}\n",
    "b = {'x','y','z'}\n",
    "\n",
    "n = a.union(b)\n",
    "print(n)\n",
    "\n",
    "n.remove(3)\n",
    "print(n)\n",
    "n.pop()\n",
    "print(n)"
   ]
  },
  {
   "cell_type": "code",
   "execution_count": 14,
   "metadata": {},
   "outputs": [
    {
     "name": "stdout",
     "output_type": "stream",
     "text": [
      "{1, 2, 3, 4, 5, 6, 7, 8}\n"
     ]
    }
   ],
   "source": [
    "s = {1,2,4,3,5,7,4,6,8,4,2,5,3,6}\n",
    "print(s)"
   ]
  },
  {
   "cell_type": "code",
   "execution_count": 15,
   "metadata": {},
   "outputs": [
    {
     "name": "stdout",
     "output_type": "stream",
     "text": [
      "{False, 1, 2, 3.3, 4.4, 'b', 'n', 'h', 'S', 'e', 'l', 'a'}\n"
     ]
    }
   ],
   "source": [
    "s1 = {1,2}\n",
    "s2 = (4.4,3.3)\n",
    "s3 = ['a','b']\n",
    "s4 = {True, False}\n",
    "s5 = 'Snehal'\n",
    "\n",
    "print(s1.union(s2, s3, s4, s5))"
   ]
  },
  {
   "cell_type": "code",
   "execution_count": 30,
   "metadata": {},
   "outputs": [
    {
     "name": "stdout",
     "output_type": "stream",
     "text": [
      "[123456]\n",
      "[123456, 6, 7, 8]\n"
     ]
    }
   ],
   "source": [
    "l = input()\n",
    "l = l.split()  \n",
    "\n",
    "i = [int(x) for x in l]  \n",
    "print(i)\n",
    "\n",
    "i.extend([6,7,8])\n",
    "print(i)\n",
    "\n"
   ]
  },
  {
   "cell_type": "code",
   "execution_count": null,
   "metadata": {},
   "outputs": [],
   "source": [
    "#i.insert(position,what to enter)"
   ]
  },
  {
   "cell_type": "code",
   "execution_count": 34,
   "metadata": {},
   "outputs": [
    {
     "name": "stdout",
     "output_type": "stream",
     "text": [
      "0\n"
     ]
    }
   ],
   "source": [
    "#print the index of given element\n",
    "i=[1,2,3,4,5]\n",
    "print(i.index(1))\n"
   ]
  },
  {
   "cell_type": "code",
   "execution_count": 35,
   "metadata": {},
   "outputs": [
    {
     "name": "stdout",
     "output_type": "stream",
     "text": [
      "[2, 3, 4, 5, 6, 7, 3, 5, 6, 3]\n",
      "[2, 4, 5, 6, 7, 3, 5, 6, 3]\n"
     ]
    }
   ],
   "source": [
    "d = [2,3,4,5,6,7,3,5,6,3]\n",
    "print(d)\n",
    "\n",
    "#first element = 3\n",
    "d.remove(3)\n",
    "print(d)"
   ]
  },
  {
   "cell_type": "code",
   "execution_count": 37,
   "metadata": {},
   "outputs": [
    {
     "name": "stdout",
     "output_type": "stream",
     "text": [
      "1\n",
      "2\n",
      "2\n"
     ]
    }
   ],
   "source": [
    "#prints number of times an element occurs\n",
    "t = [1,2,3,2,4,3,5,6]\n",
    "print(t.count(1))\n",
    "print(t.count(2))\n",
    "print(t.count(3))"
   ]
  },
  {
   "cell_type": "code",
   "execution_count": null,
   "metadata": {},
   "outputs": [],
   "source": [
    "#basic list operations\n",
    "\n",
    "d = [1, 2, 3, 4, 5]\n",
    "print(sum(d))\n",
    "print(max(d))\n",
    "print(min(d))"
   ]
  },
  {
   "cell_type": "code",
   "execution_count": null,
   "metadata": {},
   "outputs": [],
   "source": [
    "#The any() function in Python returns True if at least one element in the iterable is True, otherwise it returns False.\n",
    "t = [True, False, True, False]\n",
    "q = ['', '', '', False, 0, [0]]\n",
    "print(any(t))\n",
    "print(any(q))"
   ]
  },
  {
   "cell_type": "code",
   "execution_count": null,
   "metadata": {},
   "outputs": [],
   "source": [
    "#print value and index\n",
    "c = [1,2,3,4,5]\n",
    "\n",
    "print(list(enumerate(c)))"
   ]
  }
 ],
 "metadata": {
  "kernelspec": {
   "display_name": "Python 3",
   "language": "python",
   "name": "python3"
  },
  "language_info": {
   "codemirror_mode": {
    "name": "ipython",
    "version": 3
   },
   "file_extension": ".py",
   "mimetype": "text/x-python",
   "name": "python",
   "nbconvert_exporter": "python",
   "pygments_lexer": "ipython3",
   "version": "3.10.13"
  }
 },
 "nbformat": 4,
 "nbformat_minor": 2
}
