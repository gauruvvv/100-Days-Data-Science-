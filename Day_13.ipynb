{
 "cells": [
  {
   "cell_type": "code",
   "execution_count": 1,
   "metadata": {},
   "outputs": [],
   "source": [
    "#python my sql\n",
    "\n",
    "import mysql.connector\n"
   ]
  },
  {
   "cell_type": "code",
   "execution_count": 34,
   "metadata": {},
   "outputs": [
    {
     "name": "stdout",
     "output_type": "stream",
     "text": [
      "<mysql.connector.connection.MySQLConnection object at 0x000001D06820E990>\n",
      "('gaurav',)\n",
      "('information_schema',)\n",
      "('mysql',)\n",
      "('performance_schema',)\n",
      "('py_db',)\n",
      "('python',)\n",
      "('sakila',)\n",
      "('sys',)\n",
      "('world',)\n"
     ]
    }
   ],
   "source": [
    "mydb = mysql.connector.connect(host='localhost', user='root',passwd='7326',database='gaurav')\n",
    "\n",
    "print(mydb)\n",
    "\n",
    "mycursor=mydb.cursor()\n",
    "\n",
    "\n",
    "mycursor.execute(\"show databases\")\n",
    "for i in mycursor:\n",
    "    print(i)\n",
    "\n"
   ]
  },
  {
   "cell_type": "code",
   "execution_count": 35,
   "metadata": {},
   "outputs": [
    {
     "name": "stdout",
     "output_type": "stream",
     "text": [
      "('gaurav', 'ssc')\n",
      "('Tilak', 'ssc')\n",
      "('gaurav', 'ssc')\n",
      "('Tilak', 'ssc')\n"
     ]
    }
   ],
   "source": [
    "mycursor=mydb.cursor()\n",
    "\n",
    "mycursor.execute(\"select * from student\")\n",
    "\n",
    "result = mycursor.fetchall()\n",
    "\n",
    "for i in result:\n",
    "    print(i)\n"
   ]
  },
  {
   "cell_type": "code",
   "execution_count": 36,
   "metadata": {},
   "outputs": [
    {
     "name": "stdout",
     "output_type": "stream",
     "text": [
      "gaurav\n",
      "ssc\n"
     ]
    }
   ],
   "source": [
    "mycursor=mydb.cursor()\n",
    "\n",
    "mycursor.execute(\"select * from student\")\n",
    "\n",
    "result = mycursor.fetchone()\n",
    "\n",
    "for i in result:\n",
    "    print(i)\n"
   ]
  },
  {
   "cell_type": "code",
   "execution_count": 49,
   "metadata": {},
   "outputs": [
    {
     "name": "stdout",
     "output_type": "stream",
     "text": [
      "('gaurav',)\n",
      "('gauruv',)\n",
      "('information_schema',)\n",
      "('mysql',)\n",
      "('performance_schema',)\n",
      "('py_db',)\n",
      "('python',)\n",
      "('sakila',)\n",
      "('sys',)\n",
      "('world',)\n"
     ]
    }
   ],
   "source": [
    "mydb = mysql.connector.connect(host='localhost', user='root',passwd='7326')\n",
    "\n",
    "mycursor1 = mydb.cursor()\n",
    "\n",
    "#mycursor1.execute(\"CREATE DATABASE gauruv\")\n",
    "\n",
    "\n",
    "mycursor1.execute(\"SHOW DATABASES\")\n",
    "\n",
    "for i in mycursor1:\n",
    "    print(i)\n",
    "\n"
   ]
  },
  {
   "cell_type": "code",
   "execution_count": 56,
   "metadata": {},
   "outputs": [],
   "source": [
    "\n",
    "mycursor1.execute('use gauruv')\n",
    "\n",
    "#mycursor1.execute(\"create table t1( college id PRIMARY KEY varchar(5), name varchar(20))\")\n",
    "mycursor1.execute(\"CREATE TABLE emp(id INT AUTO_INCREMENT PRIMARY KEY, name VARCHAR(20), addr VARCHAR(20))\")"
   ]
  },
  {
   "cell_type": "code",
   "execution_count": null,
   "metadata": {},
   "outputs": [],
   "source": []
  }
 ],
 "metadata": {
  "kernelspec": {
   "display_name": "Python 3",
   "language": "python",
   "name": "python3"
  },
  "language_info": {
   "codemirror_mode": {
    "name": "ipython",
    "version": 3
   },
   "file_extension": ".py",
   "mimetype": "text/x-python",
   "name": "python",
   "nbconvert_exporter": "python",
   "pygments_lexer": "ipython3",
   "version": "3.11.9"
  }
 },
 "nbformat": 4,
 "nbformat_minor": 2
}
