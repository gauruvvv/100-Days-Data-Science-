{
 "cells": [
  {
   "cell_type": "code",
   "execution_count": 1,
   "metadata": {},
   "outputs": [],
   "source": [
    "import numpy as np"
   ]
  },
  {
   "cell_type": "code",
   "execution_count": 2,
   "metadata": {},
   "outputs": [],
   "source": [
    "arr1 = np.array([[1,2,3,4], [1,2,3,4]])\n",
    "arr2 = np.array([[5,6,7,8], [5,6,7,8]])"
   ]
  },
  {
   "cell_type": "markdown",
   "metadata": {},
   "source": [
    "### ```np.concatenate((a, b), axis=0)```"
   ]
  },
  {
   "cell_type": "code",
   "execution_count": 3,
   "metadata": {},
   "outputs": [
    {
     "name": "stdout",
     "output_type": "stream",
     "text": [
      "[[1 2 3 4]\n",
      " [1 2 3 4]\n",
      " [5 6 7 8]\n",
      " [5 6 7 8]]\n"
     ]
    }
   ],
   "source": [
    "# concat along the row\n",
    "cat = np.concatenate((arr1, arr2), axis=0)        \n",
    "print(cat)"
   ]
  },
  {
   "cell_type": "code",
   "execution_count": 4,
   "metadata": {},
   "outputs": [
    {
     "name": "stdout",
     "output_type": "stream",
     "text": [
      "[[1 2 3 4 5 6 7 8]\n",
      " [1 2 3 4 5 6 7 8]]\n"
     ]
    }
   ],
   "source": [
    "# concat along the column\n",
    "cat = np.concatenate((arr1, arr2), axis=1)    \n",
    "print(cat)"
   ]
  },
  {
   "cell_type": "markdown",
   "metadata": {},
   "source": [
    "### ```np.vstack((a, b))``` \n",
    "### ```np.r_[a, b]```"
   ]
  },
  {
   "cell_type": "code",
   "execution_count": 5,
   "metadata": {},
   "outputs": [
    {
     "name": "stdout",
     "output_type": "stream",
     "text": [
      "[[1 2 3 4]\n",
      " [1 2 3 4]\n",
      " [5 6 7 8]\n",
      " [5 6 7 8]]\n"
     ]
    }
   ],
   "source": [
    "# stack arrays vertically\n",
    "cat = np.vstack((arr1, arr2))\n",
    "print(cat)"
   ]
  },
  {
   "cell_type": "code",
   "execution_count": 6,
   "metadata": {},
   "outputs": [
    {
     "name": "stdout",
     "output_type": "stream",
     "text": [
      "[[1 2 3 4]\n",
      " [1 2 3 4]\n",
      " [5 6 7 8]\n",
      " [5 6 7 8]]\n"
     ]
    }
   ],
   "source": [
    "# stack arrays vertically\n",
    "cat = np.r_[arr1, arr2]\n",
    "print(cat)"
   ]
  },
  {
   "cell_type": "markdown",
   "metadata": {},
   "source": [
    "### ```np.hstack((a, b))```\n",
    "### ```np.c_[a, b]```"
   ]
  },
  {
   "cell_type": "code",
   "execution_count": 7,
   "metadata": {},
   "outputs": [
    {
     "name": "stdout",
     "output_type": "stream",
     "text": [
      "[[1 2 3 4 5 6 7 8]\n",
      " [1 2 3 4 5 6 7 8]]\n"
     ]
    }
   ],
   "source": [
    "# stack arrays horizontally\n",
    "cat = np.hstack((arr1, arr2))\n",
    "print(cat)"
   ]
  },
  {
   "cell_type": "code",
   "execution_count": 8,
   "metadata": {},
   "outputs": [
    {
     "name": "stdout",
     "output_type": "stream",
     "text": [
      "[[1 2 3 4 5 6 7 8]\n",
      " [1 2 3 4 5 6 7 8]]\n"
     ]
    }
   ],
   "source": [
    "# stack arrays horizontally\n",
    "cat = np.c_[arr1, arr2]\n",
    "print(cat)"
   ]
  },
  {
   "cell_type": "markdown",
   "metadata": {},
   "source": [
    "### split an array "
   ]
  },
  {
   "cell_type": "code",
   "execution_count": 9,
   "metadata": {},
   "outputs": [],
   "source": [
    "arr = np.random.rand(6,6)"
   ]
  },
  {
   "cell_type": "code",
   "execution_count": 10,
   "metadata": {},
   "outputs": [
    {
     "name": "stdout",
     "output_type": "stream",
     "text": [
      "[array([[0.64689566, 0.11199541, 0.12617237, 0.15810666, 0.50049354,\n",
      "        0.95180515],\n",
      "       [0.14199443, 0.6204979 , 0.77527133, 0.49112903, 0.98901769,\n",
      "        0.39491735],\n",
      "       [0.94959742, 0.29244747, 0.015551  , 0.83233095, 0.89926168,\n",
      "        0.84176864]]), array([[0.38776187, 0.93275434, 0.01430882, 0.31067752, 0.76623683,\n",
      "        0.62484332],\n",
      "       [0.45882909, 0.02537048, 0.27630682, 0.63340614, 0.06439098,\n",
      "        0.72977677],\n",
      "       [0.58852574, 0.59353618, 0.96111053, 0.90291023, 0.95279621,\n",
      "        0.12841233]])]\n"
     ]
    }
   ],
   "source": [
    "# split the array vertically into n evenly spaced chunks\n",
    "arr1 = np.vsplit(arr, 2)\n",
    "print(arr1)"
   ]
  },
  {
   "cell_type": "code",
   "execution_count": 11,
   "metadata": {},
   "outputs": [
    {
     "name": "stdout",
     "output_type": "stream",
     "text": [
      "[array([[0.64689566, 0.11199541, 0.12617237],\n",
      "       [0.14199443, 0.6204979 , 0.77527133],\n",
      "       [0.94959742, 0.29244747, 0.015551  ],\n",
      "       [0.38776187, 0.93275434, 0.01430882],\n",
      "       [0.45882909, 0.02537048, 0.27630682],\n",
      "       [0.58852574, 0.59353618, 0.96111053]]), array([[0.15810666, 0.50049354, 0.95180515],\n",
      "       [0.49112903, 0.98901769, 0.39491735],\n",
      "       [0.83233095, 0.89926168, 0.84176864],\n",
      "       [0.31067752, 0.76623683, 0.62484332],\n",
      "       [0.63340614, 0.06439098, 0.72977677],\n",
      "       [0.90291023, 0.95279621, 0.12841233]])]\n"
     ]
    }
   ],
   "source": [
    "# split the array horizontally into n evenly spaced chunks\n",
    "arr2 = np.hsplit(arr, 2)\n",
    "print(arr2)"
   ]
  }
 ],
 "metadata": {
  "kernelspec": {
   "display_name": "Python 3",
   "language": "python",
   "name": "python3"
  },
  "language_info": {
   "codemirror_mode": {
    "name": "ipython",
    "version": 3
   },
   "file_extension": ".py",
   "mimetype": "text/x-python",
   "name": "python",
   "nbconvert_exporter": "python",
   "pygments_lexer": "ipython3",
   "version": "3.11.9"
  }
 },
 "nbformat": 4,
 "nbformat_minor": 2
}
