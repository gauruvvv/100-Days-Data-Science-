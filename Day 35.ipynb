{
 "cells": [
  {
   "cell_type": "code",
   "execution_count": 1,
   "metadata": {},
   "outputs": [],
   "source": [
    "import numpy as np\n",
    "import pandas as pd"
   ]
  },
  {
   "cell_type": "code",
   "execution_count": 2,
   "metadata": {},
   "outputs": [
    {
     "name": "stdout",
     "output_type": "stream",
     "text": [
      "   Id Name City  Year\n",
      "0   1    A    P  2013\n",
      "1   2    B    O  2023\n",
      "2   1    A    P  2013\n",
      "3   3    D    S  2025\n",
      "4   2    B    O  2023\n",
      "5   2    B    O  2023\n",
      "6   3    D    R  2017\n"
     ]
    }
   ],
   "source": [
    "data = {\n",
    "    'Id': [1,2,1,3,2,2,3],\n",
    "    'Name': ['A','B','A','D','B','B','D'],\n",
    "    'City': ['P','O','P','S','O','O','R'],\n",
    "    'Year': [2013, 2023, 2013, 2025, 2023, 2023, 2017]\n",
    "}\n",
    "\n",
    "df = pd.DataFrame(data)\n",
    "print(df)"
   ]
  },
  {
   "cell_type": "code",
   "execution_count": 3,
   "metadata": {},
   "outputs": [
    {
     "name": "stdout",
     "output_type": "stream",
     "text": [
      "0    False\n",
      "1    False\n",
      "2     True\n",
      "3    False\n",
      "4     True\n",
      "5     True\n",
      "6    False\n",
      "dtype: bool\n"
     ]
    }
   ],
   "source": [
    "# Find Duplicate rows in the DataFrame\n",
    "# Returns True for duplicated rows and False otherwise.\n",
    "\n",
    "print(df.duplicated())"
   ]
  },
  {
   "cell_type": "code",
   "execution_count": 4,
   "metadata": {},
   "outputs": [
    {
     "name": "stdout",
     "output_type": "stream",
     "text": [
      "   Id Name City  Year\n",
      "0   1    A    P  2013\n",
      "1   2    B    O  2023\n",
      "3   3    D    S  2025\n",
      "6   3    D    R  2017\n"
     ]
    }
   ],
   "source": [
    "# Remove the duplicated rows\n",
    "\n",
    "print(df.drop_duplicates())\n",
    "# Returns DF with unique records only"
   ]
  },
  {
   "cell_type": "code",
   "execution_count": 5,
   "metadata": {},
   "outputs": [
    {
     "name": "stdout",
     "output_type": "stream",
     "text": [
      "  Name  Duration City  Year\n",
      "0    A        30    P  2013\n",
      "1    B        60    O  2023\n",
      "2    A        45    P  2013\n",
      "3    D        60    S  2025\n",
      "4    B        30    O  2023\n",
      "5    B        45    O  2023\n",
      "6    D        30    R  2017\n"
     ]
    }
   ],
   "source": [
    "# 1. Replacing the wrong data with some other value from the column.\n",
    "\n",
    "data = {\n",
    "    'Name': ['A','B','A','D','B','B','D'],\n",
    "    'Duration': [30, 60, 45, 60, 30, 180, 30],\n",
    "    'City': ['P','O','P','S','O','O','R'],\n",
    "    'Year': [2013, 2023, 2013, 2025, 2023, 2023, 2017]\n",
    "}\n",
    "df = pd.DataFrame(data)\n",
    "# In Duration, values are : 30, 45 OR 60, but 180 not lies in that.\n",
    "\n",
    "# Replace 180 with other value\n",
    "df.loc[5, 'Duration'] = 45\n",
    "\n",
    "print(df)"
   ]
  },
  {
   "cell_type": "code",
   "execution_count": 6,
   "metadata": {},
   "outputs": [
    {
     "name": "stdout",
     "output_type": "stream",
     "text": [
      "  Name  Duration City  Year\n",
      "0    A        30    P  2013\n",
      "1    B        60    O  2023\n",
      "2    A        45    P  2013\n",
      "3    D        60    S  2025\n",
      "4    B        30    O  2023\n",
      "6    D        30    R  2017\n"
     ]
    }
   ],
   "source": [
    "# 2. Removing Rows\n",
    "# So, no need to find what to replace with the wrong data.\n",
    "# But, have to sure that, the wrong data must be very less.\n",
    "\n",
    "data = {\n",
    "    'Name': ['A','B','A','D','B','B','D'],\n",
    "    'Duration': [30, 60, 45, 60, 30, 180, 30],\n",
    "    'City': ['P','O','P','S','O','O','R'],\n",
    "    'Year': [2013, 2023, 2013, 2025, 2023, 2023, 2017]\n",
    "}\n",
    "df = pd.DataFrame(data)\n",
    "\n",
    "# Remove rows with Duration >60\n",
    "for i in df.index:\n",
    "    if df.loc[i, 'Duration'] > 60:\n",
    "        df.drop(i, inplace=True)\n",
    "\n",
    "print(df)"
   ]
  },
  {
   "cell_type": "code",
   "execution_count": 7,
   "metadata": {},
   "outputs": [
    {
     "name": "stdout",
     "output_type": "stream",
     "text": [
      "  Name  Duration City  Year        Date\n",
      "0    A        30    P  2013  2020/12/01\n",
      "1    B        60    O  2023  2020/12/02\n",
      "2    A        45    P  2013  2020/12/03\n",
      "3    D        60    S  2025  2020/12/04\n",
      "4    B        30    O  2023  2020/12/05\n",
      "5    B       180    O  2023         NaN\n",
      "6    D        30    R  2017  2020/12/07\n"
     ]
    }
   ],
   "source": [
    "# 1. Convert to correct format\n",
    "\n",
    "data = {\n",
    "    'Name': ['A','B','A','D','B','B','D'],\n",
    "    'Duration': [30, 60, 45, 60, 30, 180, 30],\n",
    "    'City': ['P','O','P','S','O','O','R'],\n",
    "    'Year': [2013, 2023, 2013, 2025, 2023, 2023, 2017],\n",
    "    'Date': ['2020/12/01', '2020/12/02', '2020/12/03', '2020/12/04',\n",
    "             '2020/12/05', np.nan, '2020/12/07']\n",
    "}\n",
    "\n",
    "# Data column contains 1 NULL value, which does not match with date format\n",
    "df = pd.DataFrame(data)\n",
    "\n",
    "print(df)"
   ]
  },
  {
   "cell_type": "code",
   "execution_count": 8,
   "metadata": {},
   "outputs": [
    {
     "name": "stdout",
     "output_type": "stream",
     "text": [
      "  Name  Duration City  Year       Date\n",
      "0    A        30    P  2013 2020-12-01\n",
      "1    B        60    O  2023 2020-12-02\n",
      "2    A        45    P  2013 2020-12-03\n",
      "3    D        60    S  2025 2020-12-04\n",
      "4    B        30    O  2023 2020-12-05\n",
      "5    B       180    O  2023        NaT\n",
      "6    D        30    R  2017 2020-12-07\n"
     ]
    }
   ],
   "source": [
    "# 1. Convert to same format\n",
    "\n",
    "# Pandas has a to_datetime() method, \n",
    "# to convert all cells in the 'Date' column into dates.\n",
    "# So, all values from other format, converted to DateTime.\n",
    "\n",
    "df['Date'] = pd.to_datetime(df['Date'])\n",
    "print(df)\n",
    "# Here, NaT = Not a Date, for null values"
   ]
  },
  {
   "cell_type": "code",
   "execution_count": 9,
   "metadata": {},
   "outputs": [
    {
     "name": "stdout",
     "output_type": "stream",
     "text": [
      "  Name  Duration City  Year       Date\n",
      "0    A        30    P  2013 2020-12-01\n",
      "1    B        60    O  2023 2020-12-02\n",
      "2    A        45    P  2013 2020-12-03\n",
      "3    D        60    S  2025 2020-12-04\n",
      "4    B        30    O  2023 2020-12-05\n",
      "6    D        30    R  2017 2020-12-07\n"
     ]
    }
   ],
   "source": [
    "# 2. Remove rows with null values\n",
    "\n",
    "df.dropna(subset=['Date'], inplace=True)\n",
    "\n",
    "print(df)\n",
    "# Thus, removes records with NULL values."
   ]
  },
  {
   "cell_type": "code",
   "execution_count": 10,
   "metadata": {},
   "outputs": [
    {
     "name": "stdout",
     "output_type": "stream",
     "text": [
      "  Name  Duration City    Year\n",
      "0    A        30    P  2013.0\n",
      "2    A        45    P  2013.0\n",
      "3    D        60    S  2025.0\n",
      "5    B        45    O  2023.0\n",
      "6    D        30    R  2017.0\n",
      "7    G        45    S  2013.0\n",
      "8    H        60    R  2018.0\n"
     ]
    }
   ],
   "source": [
    "# 1. Remove Rows\n",
    "# Removing some rows in very large dataset, does not affect much\n",
    "\n",
    "data = {\n",
    "    'Name': ['A','B','A','D','B','B','D','G','H'],\n",
    "    'Duration': [30, 60, 45, 60, 30, 45, 30, 45, 60],\n",
    "    'City': ['P','O','P','S',np.nan,'O','R','S','R'],\n",
    "    'Year': [2013, np.nan, 2013, 2025, 2023, 2023, 2017, 2013, 2018]\n",
    "}\n",
    "\n",
    "df = pd.DataFrame(data)\n",
    "\n",
    "# Just remove the rows with null cell\n",
    "df.dropna(inplace=True)\n",
    "\n",
    "print(df)"
   ]
  },
  {
   "cell_type": "code",
   "execution_count": 11,
   "metadata": {},
   "outputs": [
    {
     "name": "stdout",
     "output_type": "stream",
     "text": [
      "  Name  Duration City    Year\n",
      "0    A        30    P  2013.0\n",
      "1    B        60    O  2018.0\n",
      "2    A        45    P  2013.0\n",
      "3    D        60    S  2025.0\n",
      "4    B        30    T  2023.0\n",
      "5    B        45    O  2023.0\n",
      "6    D        30    R  2017.0\n",
      "7    G        45    S  2013.0\n",
      "8    H        60    R  2018.0\n"
     ]
    },
    {
     "name": "stderr",
     "output_type": "stream",
     "text": [
      "C:\\Users\\Home\\AppData\\Local\\Temp\\ipykernel_3456\\2109988589.py:13: FutureWarning: A value is trying to be set on a copy of a DataFrame or Series through chained assignment using an inplace method.\n",
      "The behavior will change in pandas 3.0. This inplace method will never work because the intermediate object on which we are setting values always behaves as a copy.\n",
      "\n",
      "For example, when doing 'df[col].method(value, inplace=True)', try using 'df.method({col: value}, inplace=True)' or df[col] = df[col].method(value) instead, to perform the operation inplace on the original object.\n",
      "\n",
      "\n",
      "  df['City'].fillna('T', inplace=True)\n",
      "C:\\Users\\Home\\AppData\\Local\\Temp\\ipykernel_3456\\2109988589.py:14: FutureWarning: A value is trying to be set on a copy of a DataFrame or Series through chained assignment using an inplace method.\n",
      "The behavior will change in pandas 3.0. This inplace method will never work because the intermediate object on which we are setting values always behaves as a copy.\n",
      "\n",
      "For example, when doing 'df[col].method(value, inplace=True)', try using 'df.method({col: value}, inplace=True)' or df[col] = df[col].method(value) instead, to perform the operation inplace on the original object.\n",
      "\n",
      "\n",
      "  df['Year'].fillna(2018, inplace=True)\n"
     ]
    }
   ],
   "source": [
    "# 2. Replace Empty Values\n",
    "# Fill another value in the place of empty cells\n",
    "data = {\n",
    "    'Name': ['A','B','A','D','B','B','D','G','H'],\n",
    "    'Duration': [30, 60, 45, 60, 30, 45, 30, 45, 60],\n",
    "    'City': ['P','O','P','S',np.nan,'O','R','S','R'],\n",
    "    'Year': [2013, np.nan, 2013, 2025, 2023, 2023, 2017, 2013, 2018]\n",
    "}\n",
    "\n",
    "df = pd.DataFrame(data)\n",
    "\n",
    "# Can fill different values for each columns of the DF\n",
    "df['City'].fillna('T', inplace=True)\n",
    "df['Year'].fillna(2018, inplace=True)\n",
    "\n",
    "print(df)"
   ]
  },
  {
   "cell_type": "code",
   "execution_count": 12,
   "metadata": {},
   "outputs": [
    {
     "name": "stdout",
     "output_type": "stream",
     "text": [
      "  Name     Age  Duration City    Year\n",
      "0    A  23.000        30    P  2013.0\n",
      "1    B  25.000        60    O  2017.5\n",
      "2    A  20.000        45    P  2013.0\n",
      "3    D  19.000        60    S  2025.0\n",
      "4    B  24.000        30  NaN  2023.0\n",
      "5    B  27.000        45    O  2023.0\n",
      "6    D  24.625        30    R  2017.0\n",
      "7    G  30.000        45    S  2013.0\n",
      "8    H  29.000        60    R  2018.0\n"
     ]
    },
    {
     "name": "stderr",
     "output_type": "stream",
     "text": [
      "C:\\Users\\Home\\AppData\\Local\\Temp\\ipykernel_3456\\1200579990.py:13: FutureWarning: A value is trying to be set on a copy of a DataFrame or Series through chained assignment using an inplace method.\n",
      "The behavior will change in pandas 3.0. This inplace method will never work because the intermediate object on which we are setting values always behaves as a copy.\n",
      "\n",
      "For example, when doing 'df[col].method(value, inplace=True)', try using 'df.method({col: value}, inplace=True)' or df[col] = df[col].method(value) instead, to perform the operation inplace on the original object.\n",
      "\n",
      "\n",
      "  df['Age'].fillna(df['Age'].mean(), inplace=True)\n",
      "C:\\Users\\Home\\AppData\\Local\\Temp\\ipykernel_3456\\1200579990.py:16: FutureWarning: A value is trying to be set on a copy of a DataFrame or Series through chained assignment using an inplace method.\n",
      "The behavior will change in pandas 3.0. This inplace method will never work because the intermediate object on which we are setting values always behaves as a copy.\n",
      "\n",
      "For example, when doing 'df[col].method(value, inplace=True)', try using 'df.method({col: value}, inplace=True)' or df[col] = df[col].method(value) instead, to perform the operation inplace on the original object.\n",
      "\n",
      "\n",
      "  df['City'].fillna(df['City'].mode(), inplace=True)\n",
      "C:\\Users\\Home\\AppData\\Local\\Temp\\ipykernel_3456\\1200579990.py:19: FutureWarning: A value is trying to be set on a copy of a DataFrame or Series through chained assignment using an inplace method.\n",
      "The behavior will change in pandas 3.0. This inplace method will never work because the intermediate object on which we are setting values always behaves as a copy.\n",
      "\n",
      "For example, when doing 'df[col].method(value, inplace=True)', try using 'df.method({col: value}, inplace=True)' or df[col] = df[col].method(value) instead, to perform the operation inplace on the original object.\n",
      "\n",
      "\n",
      "  df['Year'].fillna(df['Year'].median(), inplace=True)\n"
     ]
    }
   ],
   "source": [
    "# 3. Replace Using Mean, Median, or Mode\n",
    "\n",
    "data = {\n",
    "    'Name': ['A','B','A','D','B','B','D','G','H'],\n",
    "    'Age': [23, 25, 20, 19, 24, 27, np.nan, 30, 29],\n",
    "    'Duration': [30, 60, 45, 60, 30, 45, 30, 45, 60],\n",
    "    'City': ['P','O','P','S',np.nan,'O','R','S','R'],\n",
    "    'Year': [2013, np.nan, 2013, 2025, 2023, 2023, 2017, 2013, 2018]\n",
    "}\n",
    "df = pd.DataFrame(data)\n",
    "\n",
    "# Replace null in Age with Mean of the Age column\n",
    "df['Age'].fillna(df['Age'].mean(), inplace=True)\n",
    "\n",
    "# Replace null in City with Mode of the City column\n",
    "df['City'].fillna(df['City'].mode(), inplace=True)\n",
    "\n",
    "# Replace null in Year with Median of the Year column\n",
    "df['Year'].fillna(df['Year'].median(), inplace=True)\n",
    "\n",
    "print(df)"
   ]
  },
  {
   "cell_type": "code",
   "execution_count": 13,
   "metadata": {},
   "outputs": [
    {
     "name": "stdout",
     "output_type": "stream",
     "text": [
      "Id      0\n",
      "Name    0\n",
      "City    2\n",
      "Year    2\n",
      "dtype: int64\n"
     ]
    }
   ],
   "source": [
    "data = {\n",
    "    'Id': [1,2,3,4,5,6,7],\n",
    "    'Name': ['A','B','C','D','E','F','G'],\n",
    "    'City': ['P','O',np.nan,'Q','R','H',np.nan],\n",
    "    'Year': [2013, 2023, np.nan, np.nan, 2018, 2014, 2017]\n",
    "}\n",
    "\n",
    "df = pd.DataFrame(data)\n",
    "\n",
    "print(df.isna().sum())  # --> Return how many null present in each column"
   ]
  },
  {
   "cell_type": "code",
   "execution_count": 14,
   "metadata": {},
   "outputs": [
    {
     "name": "stdout",
     "output_type": "stream",
     "text": [
      "   Id Name City    Year\n",
      "0   1    A    P  2013.0\n",
      "1   2    B    O  2023.0\n",
      "2   3    C  NaN     NaN\n",
      "3   4    D    Q     NaN\n",
      "4   5    E    R  2018.0\n",
      "5   6    F    H  2014.0\n",
      "6   7    G  NaN  2017.0\n"
     ]
    }
   ],
   "source": [
    "# Drop all rows with null\n",
    "# axis=0 : Drop rows having any null value\n",
    "# axis=1 : Drop cols having any null value\n",
    "\n",
    "# how='any': Drop evan for only one null as well\n",
    "# how='all': Drop only if all values are null\n",
    "print(df.dropna(axis=0, how='all'))"
   ]
  },
  {
   "cell_type": "code",
   "execution_count": 15,
   "metadata": {},
   "outputs": [
    {
     "name": "stdout",
     "output_type": "stream",
     "text": [
      "   Id Name City    Year\n",
      "0   1    A    P  2013.0\n",
      "1   2    B    O  2023.0\n",
      "3   4    D    Q     NaN\n",
      "4   5    E    R  2018.0\n",
      "5   6    F    H  2014.0\n",
      "6   7    G  NaN  2017.0\n"
     ]
    }
   ],
   "source": [
    "print(df.dropna(axis=0,thresh=3))\n",
    "# thresh=int : Determine how many nou-null values must be present, otherwise drop.\n",
    "# thresh=3: So, drop rows with less than 3 non-null values."
   ]
  },
  {
   "cell_type": "code",
   "execution_count": 16,
   "metadata": {},
   "outputs": [
    {
     "name": "stdout",
     "output_type": "stream",
     "text": [
      "   Id Name City    Year\n",
      "0   1    A    P  2013.0\n",
      "1   2    B    O  2023.0\n",
      "2   3    C  NaN     NaN\n",
      "3   4    D    Q     NaN\n",
      "4   5    E    R  2018.0\n",
      "5   6    F    H  2014.0\n",
      "6   7    G  NaN  2017.0\n"
     ]
    }
   ],
   "source": [
    "# Original DataFrame\n",
    "print(df)\n",
    "# So, can see that changes are not permanent to original DF"
   ]
  },
  {
   "cell_type": "code",
   "execution_count": 17,
   "metadata": {},
   "outputs": [
    {
     "name": "stdout",
     "output_type": "stream",
     "text": [
      "   Id Name City    Year\n",
      "0   1    A    P  2013.0\n",
      "1   2    B    O  2023.0\n",
      "4   5    E    R  2018.0\n",
      "5   6    F    H  2014.0\n"
     ]
    }
   ],
   "source": [
    "# inplace=True : Make changes permanent to the original DF\n",
    "df.dropna(axis=0,inplace=True)\n",
    "print(df)"
   ]
  },
  {
   "cell_type": "code",
   "execution_count": 18,
   "metadata": {},
   "outputs": [
    {
     "name": "stdout",
     "output_type": "stream",
     "text": [
      "   Id Name      City    Year\n",
      "0   1    A         P  2013.0\n",
      "1   2    B         O  2023.0\n",
      "2   3    C  New_city     NaN\n",
      "3   4    D         Q     NaN\n",
      "4   5    E         R  2018.0\n",
      "5   6    F         H  2014.0\n",
      "6   7    G  New_city  2017.0\n"
     ]
    },
    {
     "name": "stderr",
     "output_type": "stream",
     "text": [
      "C:\\Users\\Home\\AppData\\Local\\Temp\\ipykernel_3456\\1036008275.py:9: FutureWarning: A value is trying to be set on a copy of a DataFrame or Series through chained assignment using an inplace method.\n",
      "The behavior will change in pandas 3.0. This inplace method will never work because the intermediate object on which we are setting values always behaves as a copy.\n",
      "\n",
      "For example, when doing 'df[col].method(value, inplace=True)', try using 'df.method({col: value}, inplace=True)' or df[col] = df[col].method(value) instead, to perform the operation inplace on the original object.\n",
      "\n",
      "\n",
      "  df['City'].fillna('New_city', inplace=True)\n"
     ]
    }
   ],
   "source": [
    "data = {\n",
    "    'Id': [1,2,3,4,5,6,7],\n",
    "    'Name': ['A','B','C','D','E','F','G'],\n",
    "    'City': ['P','O',np.nan,'Q','R','H',np.nan],\n",
    "    'Year': [2013, 2023, np.nan, np.nan, 2018, 2014, 2017]\n",
    "}\n",
    "\n",
    "df = pd.DataFrame(data)\n",
    "df['City'].fillna('New_city', inplace=True)\n",
    "# inplace=True : Makes changes permanent to the original df\n",
    "\n",
    "print(df)"
   ]
  },
  {
   "cell_type": "code",
   "execution_count": 19,
   "metadata": {},
   "outputs": [
    {
     "name": "stdout",
     "output_type": "stream",
     "text": [
      "   Id Name City  Year\n",
      "0   1    A    P  2013\n",
      "1   2    B    O  2023\n",
      "2   1    A    P  2013\n",
      "3   3    D    S  2025\n",
      "4   2    B    O  2023\n",
      "5   2    B    O  2023\n",
      "6   3    D    R  2017\n"
     ]
    }
   ],
   "source": [
    "data = {\n",
    "    'Id': [1,2,1,3,2,2,3],\n",
    "    'Name': ['A','B','A','D','B','B','D'],\n",
    "    'City': ['P','O','P','S','O','O','R'],\n",
    "    'Year': [2013, 2023, 2013, 2025, 2023, 2023, 2017]\n",
    "}\n",
    "\n",
    "df = pd.DataFrame(data)\n",
    "print(df)\n",
    "# DF contains many duplicate entries"
   ]
  },
  {
   "cell_type": "code",
   "execution_count": 20,
   "metadata": {},
   "outputs": [
    {
     "name": "stdout",
     "output_type": "stream",
     "text": [
      "   Id Name City  Year\n",
      "0   1    A    P  2013\n",
      "1   2    B    O  2023\n",
      "3   3    D    S  2025\n"
     ]
    }
   ],
   "source": [
    "# Subset : Take list of columns, from which to consider duplicates\n",
    "print(df.drop_duplicates(subset=['Id']))\n",
    "# print(df.drop_duplicates())\n",
    "# Returns unique rows only."
   ]
  },
  {
   "cell_type": "code",
   "execution_count": 21,
   "metadata": {},
   "outputs": [
    {
     "name": "stdout",
     "output_type": "stream",
     "text": [
      "   Id Name City  Year\n",
      "3   3    D    S  2025\n",
      "6   3    D    R  2017\n"
     ]
    }
   ],
   "source": [
    "print(df.drop_duplicates(keep=False))\n"
   ]
  },
  {
   "cell_type": "code",
   "execution_count": 22,
   "metadata": {},
   "outputs": [
    {
     "name": "stdout",
     "output_type": "stream",
     "text": [
      "0    Fail\n",
      "1    Pass\n",
      "2    Pass\n",
      "3    Fail\n",
      "4    Pass\n",
      "5    Pass\n",
      "Name: Marks, dtype: object\n"
     ]
    },
    {
     "name": "stderr",
     "output_type": "stream",
     "text": [
      "C:\\Users\\Home\\AppData\\Local\\Temp\\ipykernel_3456\\2491282294.py:15: FutureWarning: the convert_dtype parameter is deprecated and will be removed in a future version.  Do ``ser.astype(object).apply()`` instead if you want ``convert_dtype=False``.\n",
      "  print(df['Marks'].apply(give, convert_dtype=True))\n"
     ]
    }
   ],
   "source": [
    "data = {\n",
    "    'Name': ['A','B','C','D','E','F'],\n",
    "    'Marks': [56,78,90,34,62,78],\n",
    "    'City': ['P','O','P','S','O','O']\n",
    "}\n",
    "\n",
    "df = pd.DataFrame(data)\n",
    "\n",
    "def give(num):\n",
    "    if num>60:\n",
    "        return 'Pass'\n",
    "    else:\n",
    "        return 'Fail'\n",
    "\n",
    "print(df['Marks'].apply(give, convert_dtype=True))"
   ]
  },
  {
   "cell_type": "code",
   "execution_count": 23,
   "metadata": {},
   "outputs": [
    {
     "name": "stdout",
     "output_type": "stream",
     "text": [
      "0    21\n",
      "1    24\n",
      "2    26\n",
      "3    32\n",
      "4    34\n",
      "5    31\n",
      "dtype: int64\n"
     ]
    }
   ],
   "source": [
    "s1 = pd.Series([0,1,2,3,4,5])\n",
    "s2 = pd.Series([21,24,26,32,34,31])\n",
    "\n",
    "print(s1.map(s2))"
   ]
  },
  {
   "cell_type": "code",
   "execution_count": 24,
   "metadata": {},
   "outputs": [
    {
     "name": "stdout",
     "output_type": "stream",
     "text": [
      "  Name  Marks City\n",
      "0  Abc     56   Pa\n",
      "1  Bob     78  OpD\n",
      "2  Cat     90  PsT\n",
      "3  Dog     34  SpY\n",
      "4  Ele     62   On\n",
      "5  Fog     78   Om\n"
     ]
    }
   ],
   "source": [
    "data = {\n",
    "    'Name': ['Abc','Bob','Cat','Dog','Ele','Fog'],\n",
    "    'Marks': [56,78,90,34,62,78],\n",
    "    'City': ['Pa','OpD','PsT','SpY','On','Om']\n",
    "}\n",
    "\n",
    "df = pd.DataFrame(data)\n",
    "\n",
    "print(df)"
   ]
  },
  {
   "cell_type": "code",
   "execution_count": 25,
   "metadata": {},
   "outputs": [
    {
     "name": "stdout",
     "output_type": "stream",
     "text": [
      "  Name  Marks City\n",
      "0  abc     56   Pa\n",
      "1  bob     78  OpD\n",
      "2  cat     90  PsT\n",
      "3  dog     34  SpY\n",
      "4  ele     62   On\n",
      "5  fog     78   Om\n"
     ]
    }
   ],
   "source": [
    "# 1. str.lower() - Convert the string to lowercase chars\n",
    "df['Name'] = df['Name'].str.lower()\n",
    "print(df)"
   ]
  },
  {
   "cell_type": "code",
   "execution_count": 26,
   "metadata": {},
   "outputs": [
    {
     "name": "stdout",
     "output_type": "stream",
     "text": [
      "  Name  Marks City\n",
      "0  abc     56   PA\n",
      "1  bob     78  OPD\n",
      "2  cat     90  PST\n",
      "3  dog     34  SPY\n",
      "4  ele     62   ON\n",
      "5  fog     78   OM\n"
     ]
    }
   ],
   "source": [
    "# 2. str.upper() - Convert the string to uppercase chars\n",
    "df['City'] = df['City'].str.upper()\n",
    "print(df)"
   ]
  },
  {
   "cell_type": "markdown",
   "metadata": {},
   "source": [
    "> **Regular expressions for pattern matching:**\n"
   ]
  },
  {
   "cell_type": "code",
   "execution_count": 27,
   "metadata": {},
   "outputs": [
    {
     "name": "stdout",
     "output_type": "stream",
     "text": [
      "  Name  Marks City\n",
      "1  Bob     78  OpD\n",
      "4  Ele     62   On\n",
      "5  Fog     78   Om\n"
     ]
    }
   ],
   "source": [
    "import re\n",
    "\n",
    "data = {\n",
    "    'Name': ['Abc','Bob','Cat','Dog','Ele','Fog'],\n",
    "    'Marks': [56,78,90,34,62,78],\n",
    "    'City': ['Pa','OpD','PsT','SpY','On','Om']\n",
    "}\n",
    "\n",
    "df = pd.DataFrame(data)\n",
    "\n",
    "pattern = '[O].*'\n",
    "\n",
    "print(df[df.City.str.match(pattern)])"
   ]
  }
 ],
 "metadata": {
  "kernelspec": {
   "display_name": "virtual_env",
   "language": "python",
   "name": "python3"
  },
  "language_info": {
   "codemirror_mode": {
    "name": "ipython",
    "version": 3
   },
   "file_extension": ".py",
   "mimetype": "text/x-python",
   "name": "python",
   "nbconvert_exporter": "python",
   "pygments_lexer": "ipython3",
   "version": "3.11.9"
  },
  "orig_nbformat": 4
 },
 "nbformat": 4,
 "nbformat_minor": 2
}
